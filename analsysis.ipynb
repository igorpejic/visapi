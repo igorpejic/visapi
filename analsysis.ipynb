{
 "cells": [
  {
   "cell_type": "code",
   "execution_count": 1,
   "metadata": {},
   "outputs": [],
   "source": [
    "from binpack.models import Result\n",
    "import seaborn as sns\n",
    "import pandas as pd\n",
    "import numpy as np\n",
    "import matplotlib.pyplot as plt\n",
    "import matplotlib.ticker as ticker"
   ]
  },
  {
   "cell_type": "code",
   "execution_count": 2,
   "metadata": {},
   "outputs": [],
   "source": [
    "results = Result.objects.filter(n_tiles=20)"
   ]
  },
  {
   "cell_type": "code",
   "execution_count": 3,
   "metadata": {},
   "outputs": [
    {
     "data": {
      "text/plain": [
       "<QuerySet [{'score': 5.0}, {'score': 3.0}, {'score': 4.0}, {'score': 7.0}, {'score': 0.0}, {'score': 0.0}, {'score': 0.0}, {'score': 1.0}, {'score': 0.0}, {'score': 0.0}, {'score': 3.0}, {'score': 3.0}, {'score': 1.0}, {'score': 0.0}, {'score': 3.0}, {'score': 0.0}, {'score': 3.0}, {'score': 3.0}, {'score': 0.0}, {'score': 2.0}, '...(remaining elements truncated)...']>"
      ]
     },
     "execution_count": 3,
     "metadata": {},
     "output_type": "execute_result"
    }
   ],
   "source": [
    "results.values('score')"
   ]
  },
  {
   "cell_type": "code",
   "execution_count": 27,
   "metadata": {},
   "outputs": [
    {
     "name": "stdout",
     "output_type": "stream",
     "text": [
      "73\n",
      "41\n",
      "20.068493150684933\n",
      "20.70731707317073\n"
     ]
    }
   ],
   "source": [
    "common_args = {'problem_generator': 'florian', 'n_simulations': 1000}\n",
    "common_args['problem_generator'] = 'guillotine'\n",
    "avg_depth_scores = results.filter(score__isnull=False, strategy='avg_depth', **common_args).values('score')\n",
    "max_depth_scores = results.filter(score__isnull=False, strategy='max_depth', **common_args).values('score')\n",
    "print(avg_depth_scores.count())\n",
    "print(max_depth_scores.count())\n",
    "scores = results.values('score', 'strategy')\n",
    "print(np.average(np.array(results.filter(score__isnull=False, strategy='avg_depth', **common_args).values_list('rows', flat=True))))\n",
    "print(np.average(np.array(results.filter(score__isnull=False, strategy='max_depth', **common_args).values_list('rows', flat=True))))"
   ]
  },
  {
   "cell_type": "code",
   "execution_count": 19,
   "metadata": {},
   "outputs": [],
   "source": [
    "scores_df = pd.DataFrame.from_records(scores)\n",
    "avg_depth_df = pd.DataFrame.from_records(avg_depth_scores)\n",
    "def score_to_int(df):\n",
    "    if common_args['problem_generator'] == 'guillotine':\n",
    "        df['score'] = df['score'].astype('int')[:40]\n",
    "    else:\n",
    "        df['score'] = df['score'].astype('int')\n",
    "    return df"
   ]
  },
  {
   "cell_type": "code",
   "execution_count": 20,
   "metadata": {},
   "outputs": [
    {
     "data": {
      "image/png": "[encoded data removed]",
      "text/plain": [
       "<Figure size 432x288 with 1 Axes>"
      ]
     },
     "metadata": {
      "needs_background": "light"
     },
     "output_type": "display_data"
    }
   ],
   "source": [
    "# scores_df\n",
    "plt.figure('Results distribution')\n",
    "bins = np.arange(0, 12)\n",
    "sns.distplot(score_to_int(pd.DataFrame.from_records(avg_depth_scores)), kde=False, color='skyblue', label='avg_depth', bins=bins)\n",
    "ax = sns.distplot(score_to_int(pd.DataFrame.from_records(max_depth_scores)), kde=False, color='red', label='max_depth', bins=bins)\n",
    "ax.xaxis.set_major_locator(ticker.MultipleLocator(1))\n",
    "ax.xaxis.set_major_formatter(ticker.ScalarFormatter())\n",
    "plt.xlim(left=0)\n",
    "plt.ylabel('Number of solutions')\n",
    "plt.xlabel('Score (tiles unplaced)')\n",
    "plt.legend()\n",
    "plt.show()"
   ]
  },
  {
   "cell_type": "code",
   "execution_count": 7,
   "metadata": {},
   "outputs": [
    {
     "data": {
      "text/plain": [
       "<QuerySet [{'score': 5.0, 'total_for_score': 1}, {'score': 3.0, 'total_for_score': 1}, {'score': 4.0, 'total_for_score': 1}, {'score': 7.0, 'total_for_score': 1}, {'score': 0.0, 'total_for_score': 1}, {'score': 0.0, 'total_for_score': 1}, {'score': 0.0, 'total_for_score': 1}, {'score': 1.0, 'total_for_score': 1}, {'score': 0.0, 'total_for_score': 1}, {'score': 0.0, 'total_for_score': 1}, {'score': 3.0, 'total_for_score': 1}, {'score': 3.0, 'total_for_score': 1}, {'score': 1.0, 'total_for_score': 1}, {'score': 0.0, 'total_for_score': 1}, {'score': 3.0, 'total_for_score': 1}, {'score': 0.0, 'total_for_score': 1}, {'score': 3.0, 'total_for_score': 1}, {'score': 3.0, 'total_for_score': 1}, {'score': 0.0, 'total_for_score': 1}, {'score': 2.0, 'total_for_score': 1}, '...(remaining elements truncated)...']>"
      ]
     },
     "execution_count": 7,
     "metadata": {},
     "output_type": "execute_result"
    }
   ],
   "source": [
    "# find total scores by annotation\n",
    "from django.db.models import Count\n",
    "results.values('score').annotate(total_for_score=Count('score'))"
   ]
  },
  {
   "cell_type": "code",
   "execution_count": 8,
   "metadata": {},
   "outputs": [
    {
     "data": {
      "text/plain": [
       "2458"
      ]
     },
     "execution_count": 8,
     "metadata": {},
     "output_type": "execute_result"
    }
   ],
   "source": [
    "results.count()"
   ]
  },
  {
   "cell_type": "markdown",
   "metadata": {},
   "source": [
    "### Simulation runs vs score"
   ]
  },
  {
   "cell_type": "code",
   "execution_count": 9,
   "metadata": {},
   "outputs": [
    {
     "data": {
      "text/plain": [
       "<QuerySet []>"
      ]
     },
     "execution_count": 9,
     "metadata": {},
     "output_type": "execute_result"
    }
   ],
   "source": [
    "s1 = set(Result.objects.filter(n_simulations=5000).values_list('their_id', flat=True))\n",
    "s2 = set(Result.objects.filter(n_simulations=10000).values_list('their_id', flat=True))\n",
    "s1 - s2\n",
    "Result.objects.filter(n_simulations=10000)"
   ]
  },
  {
   "cell_type": "code",
   "execution_count": 71,
   "metadata": {},
   "outputs": [
    {
     "name": "stdout",
     "output_type": "stream",
     "text": [
      "<QuerySet [1.0, 2.0, 2.0, 1.0, 2.0, 1.0, 1.0, 2.0, 1.0, 1.0, 1.0, 2.0, 2.0, 1.0, 2.0, 2.0, 2.0, 3.0, 1.0, 1.0]>\n",
      "<QuerySet [1.0, 1.0, 1.0, 2.0, 1.0, 1.0, 1.0, 2.0, 1.0, 2.0, 1.0, 1.0, 2.0, 1.0, 2.0, 1.0, 1.0, 1.0, 1.0, 1.0]>\n",
      "<QuerySet [1.0, 1.0, 2.0, 1.0, 1.0, 1.0, 1.0, 2.0, 2.0, 1.0, 1.0, 1.0, 1.0, 1.0, 1.0, 1.0, 1.0, 1.0, 1.0, 1.0]>\n",
      "<QuerySet [0.0, 2.0, 2.0, 1.0, 1.0, 1.0, 1.0, 1.0, 1.0, 2.0, 1.0, 2.0, 1.0, 1.0, 1.0, 1.0, 0.0, 1.0, 1.0, 1.0]>\n",
      "<QuerySet [1.0, 2.0, 1.0, 1.0, 1.0, 1.0, 1.0, 2.0, 1.0, 1.0, 1.0, 1.0, 1.0, 1.0, 2.0, 2.0, 1.0, 1.0, 1.0, 2.0]>\n",
      "Number of tiles non-placed in correlation with simulation runs\n"
     ]
    },
    {
     "data": {
      "image/png": "[encoded data removed]",
      "text/plain": [
       "<Figure size 1080x216 with 1 Axes>"
      ]
     },
     "metadata": {
      "needs_background": "light"
     },
     "output_type": "display_data"
    }
   ],
   "source": [
    "from collections import defaultdict\n",
    "SIMULATION_RUNS = [500, 1000, 2000, 5000, 10000]\n",
    "problem_ids = Result.objects.filter(n_simulations=5000).order_by('their_id').values_list('their_id', flat=True)\n",
    "x_vals = defaultdict(list)\n",
    "results = {}\n",
    "\n",
    "plt.rcParams[\"figure.figsize\"] = (15,3)\n",
    "\n",
    "for n_simulations in SIMULATION_RUNS:\n",
    "    s1 = Result.objects.filter(\n",
    "        their_id__in=problem_ids,\n",
    "        strategy='max_depth',\n",
    "        n_simulations=n_simulations).order_by('their_id').values_list('score', flat=True)\n",
    "    results[n_simulations] = s1\n",
    "    \n",
    "fig = plt.figure()\n",
    "x = np.arange(0, len(problem_ids)* 2, 2)\n",
    "y = np.arange(0,3)\n",
    "width_offset = 0.35\n",
    "width = - width_offset * 2.5 \n",
    "for n_simulations, result in results.items():\n",
    "    print(result)\n",
    "    plt.bar(x + width, result, width=width_offset, label=n_simulations)\n",
    "    width += width_offset\n",
    "   \n",
    "plt.yticks(ticks=np.arange(0, 4))\n",
    "plt.xlabel('Problem instance')\n",
    "plt.ylabel('Non-placed tiles (lower is better)')\n",
    "plt.legend()\n",
    "print('Number of tiles non-placed in correlation with simulation runs')\n",
    "plt.show()"
   ]
  },
  {
   "cell_type": "markdown",
   "metadata": {},
   "source": [
    "### Tiles placed (Huristic vs MCTS)"
   ]
  },
  {
   "cell_type": "code",
   "execution_count": 14,
   "metadata": {},
   "outputs": [
    {
     "data": {
      "text/html": [
       "<div>\n",
       "<style scoped>\n",
       "    .dataframe tbody tr th:only-of-type {\n",
       "        vertical-align: middle;\n",
       "    }\n",
       "\n",
       "    .dataframe tbody tr th {\n",
       "        vertical-align: top;\n",
       "    }\n",
       "\n",
       "    .dataframe thead th {\n",
       "        text-align: right;\n",
       "    }\n",
       "</style>\n",
       "<table border=\"1\" class=\"dataframe\">\n",
       "  <thead>\n",
       "    <tr style=\"text-align: right;\">\n",
       "      <th></th>\n",
       "      <th>n_tiles_placed</th>\n",
       "      <th>their_tiles_placed</th>\n",
       "    </tr>\n",
       "  </thead>\n",
       "  <tbody>\n",
       "    <tr>\n",
       "      <th>0</th>\n",
       "      <td>858933</td>\n",
       "      <td>29007</td>\n",
       "    </tr>\n",
       "    <tr>\n",
       "      <th>1</th>\n",
       "      <td>962642</td>\n",
       "      <td>22</td>\n",
       "    </tr>\n",
       "    <tr>\n",
       "      <th>2</th>\n",
       "      <td>843695</td>\n",
       "      <td>77</td>\n",
       "    </tr>\n",
       "  </tbody>\n",
       "</table>\n",
       "</div>"
      ],
      "text/plain": [
       "   n_tiles_placed  their_tiles_placed\n",
       "0          858933               29007\n",
       "1          962642                  22\n",
       "2          843695                  77"
      ]
     },
     "execution_count": 14,
     "metadata": {},
     "output_type": "execute_result"
    }
   ],
   "source": [
    "instances_where_solution_is_found = Result.objects.filter(solution_found=True, n_tiles=20, problem_generator='florian').values('n_tiles_placed', 'their_tiles_placed')\n",
    "scores_df = pd.DataFrame.from_records(instances_where_solution_is_found)\n",
    "scores_df"
   ]
  },
  {
   "cell_type": "code",
   "execution_count": 11,
   "metadata": {},
   "outputs": [
    {
     "name": "stdout",
     "output_type": "stream",
     "text": [
      "Florian instances\n",
      "solutions found: 3 \n",
      "solutions not found: 402\n",
      "perc: 0.7462686567164178 %\n"
     ]
    }
   ],
   "source": [
    "solutions_found = Result.objects.filter(solution_found=True, n_tiles=20, problem_generator='florian', n_simulations=1000).count()\n",
    "solutions_not_found = Result.objects.filter(solution_found=False, n_tiles=20, problem_generator='florian', n_simulations=1000).count()\n",
    "print('Florian instances')\n",
    "print(f'solutions found: {solutions_found} \\nsolutions not found: {solutions_not_found}')\n",
    "print(f'perc: {solutions_found / solutions_not_found * 100} %')"
   ]
  },
  {
   "cell_type": "code",
   "execution_count": 10,
   "metadata": {},
   "outputs": [
    {
     "name": "stdout",
     "output_type": "stream",
     "text": [
      "Guillotine instances\n",
      "solutions found: 58 \n",
      "solutions not found: 94\n",
      "perc: 61.702127659574465 %\n"
     ]
    }
   ],
   "source": [
    "print('Guillotine instances')\n",
    "solutions_found = Result.objects.filter(solution_found=True, n_tiles=20, problem_generator='guillotine', n_simulations=1000).count()\n",
    "solutions_not_found = Result.objects.filter(solution_found=False, n_tiles=20, problem_generator='guillotine', n_simulations=1000).count()\n",
    "print(f'solutions found: {solutions_found} \\nsolutions not found: {solutions_not_found}')\n",
    "print(f'perc: {solutions_found / solutions_not_found * 100} %')"
   ]
  },
  {
   "cell_type": "code",
   "execution_count": null,
   "metadata": {},
   "outputs": [],
   "source": []
  }
 ],
 "metadata": {
  "kernelspec": {
   "display_name": "Django Shell-Plus",
   "language": "python",
   "name": "django_extensions"
  },
  "language_info": {
   "codemirror_mode": {
    "name": "ipython",
    "version": 3
   },
   "file_extension": ".py",
   "mimetype": "text/x-python",
   "name": "python",
   "nbconvert_exporter": "python",
   "pygments_lexer": "ipython3",
   "version": "3.7.3"
  }
 },
 "nbformat": 4,
 "nbformat_minor": 2
}

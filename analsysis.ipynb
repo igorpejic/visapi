{
 "cells": [
  {
   "cell_type": "code",
   "execution_count": 1,
   "metadata": {},
   "outputs": [],
   "source": [
    "from binpack.models import Result\n",
    "import seaborn as sns\n",
    "import pandas as pd\n",
    "import numpy as np\n",
    "import matplotlib.pyplot as plt\n",
    "import matplotlib.ticker as ticker\n",
    "from statsmodels.stats import descriptivestats"
   ]
  },
  {
   "cell_type": "code",
   "execution_count": 2,
   "metadata": {},
   "outputs": [],
   "source": [
    "results = Result.objects.filter(n_tiles=20, improved_sel=True)"
   ]
  },
  {
   "cell_type": "code",
   "execution_count": 3,
   "metadata": {},
   "outputs": [
    {
     "data": {
      "text/plain": [
       "<QuerySet [{'score': 0.0}, {'score': 0.0}, {'score': 1.0}, {'score': 0.0}, {'score': 0.0}, {'score': 0.0}, {'score': 0.0}, {'score': 2.0}, {'score': 1.0}, {'score': 0.0}, {'score': 0.0}, {'score': 0.0}, {'score': 0.0}, {'score': 0.0}, {'score': 0.0}, {'score': 1.0}, {'score': 1.0}, {'score': 0.0}, {'score': 0.0}, {'score': 0.0}, '...(remaining elements truncated)...']>"
      ]
     },
     "execution_count": 3,
     "metadata": {},
     "output_type": "execute_result"
    }
   ],
   "source": [
    "results.values('score')"
   ]
  },
  {
   "cell_type": "code",
   "execution_count": 4,
   "metadata": {},
   "outputs": [],
   "source": [
    "def calc_p_value(results, max_depth_instances, avg_depth_instances, is_guillotine=True): \n",
    "    max_depth_wins = 0\n",
    "    avg_depth_wins = 0\n",
    "    draws = 0\n",
    "    values = []\n",
    "    for max_depth_res in max_depth_instances:\n",
    "        if is_guillotine:\n",
    "            kwargs = {'problem_id': max_depth_res.problem_id}\n",
    "        else:\n",
    "            kwargs = {'their_id': max_depth_res.their_id}\n",
    "        kwargs['score__isnull'] =  False\n",
    "        avg_depth_res = results.filter(\n",
    "            strategy='avg_depth',\n",
    "            **kwargs,\n",
    "            )\n",
    "        if avg_depth_res.count() == 1:\n",
    "            avg_depth_score = avg_depth_res.first().score\n",
    "            max_depth_score = max_depth_res.score\n",
    "            if avg_depth_score > max_depth_score: # lower is better\n",
    "                max_depth_wins +=1 \n",
    "                values.append(1)\n",
    "            elif avg_depth_score < max_depth_score:\n",
    "                avg_depth_wins += 1\n",
    "                values.append(-1)\n",
    "            else:\n",
    "                draws += 1\n",
    "                \n",
    "    print(f'In total max_depth_wins: {max_depth_wins}, avg_depth_wins: {avg_depth_wins}, and {draws} ties.')\n",
    "    \n",
    "    m = descriptivestats.sign_test(values)\n",
    "    print(f'p value: {m[1]}')"
   ]
  },
  {
   "cell_type": "code",
   "execution_count": 54,
   "metadata": {},
   "outputs": [],
   "source": [
    "'''\n",
    "gets problem_id's of problems which were solved by all variations\n",
    "'''\n",
    "def get_best_problem_ids(N=1000, guillotine=True):\n",
    "    ret = []\n",
    "    common_args = {'solution_tiles_order__isnull': True, 'improved_sel': True, 'score__isnull': False}\n",
    "    problem_ids = set()\n",
    "    for r in Result.objects.filter(n_simulations=5000, **common_args).order_by('id'):\n",
    "        if guillotine:\n",
    "            common_args['problem_generator'] = 'guillotine'\n",
    "            count = len(set(Result.objects.filter(problem_id=r.problem_id, **common_args).values_list('strategy', 'n_simulations')))\n",
    "            problem_ids.add((r.problem_id, count))\n",
    "        else:\n",
    "            common_args['problem_generator'] = 'florian'\n",
    "            count = len(set(Result.objects.filter(their_id=r.their_id, **common_args).values_list('strategy', 'n_simulations')))\n",
    "            problem_ids.add((r.their_id, count))\n",
    "            \n",
    "    problem_ids = sorted(problem_ids, key=lambda x: x[1])\n",
    "    N_COMBINATIONS = 12 # 100, 200, 500, 1k, 2k, 5k for avg and max depth\n",
    "    ret =  [x[0] for x in problem_ids if x[1] == N_COMBINATIONS]\n",
    "    return ret[:1000]"
   ]
  },
  {
   "cell_type": "code",
   "execution_count": 55,
   "metadata": {},
   "outputs": [],
   "source": [
    "best_problem_ids = get_best_problem_ids()\n",
    "best_their_ids = get_best_problem_ids(guillotine=False)"
   ]
  },
  {
   "cell_type": "code",
   "execution_count": 7,
   "metadata": {},
   "outputs": [
    {
     "name": "stdout",
     "output_type": "stream",
     "text": [
      "1000\n"
     ]
    }
   ],
   "source": [
    "def eliminate_duplicate_tiles(tiles):\n",
    "    i = 0\n",
    "    new_tiles = []\n",
    "    while i < len(tiles):\n",
    "        tile = tiles[i]\n",
    "        tiles_without_current_tile = tiles[i + 1:]\n",
    "        tile_pair_index = tiles_without_current_tile.index([tile[1], tile[0]]) + i + 1\n",
    "        tiles = tiles[0: tile_pair_index] + tiles[tile_pair_index + 1:]\n",
    "        i += 1 \n",
    "    return tiles\n",
    "\n",
    "b_problems = Result.objects.filter(their_id__in=best_their_ids, n_simulations=5000, \n",
    "                                 improved_sel=True, strategy='max_depth', score__isnull=False\n",
    "                                 ).values('rows', 'cols', 'tiles', 'n_tiles', 'their_id')\n",
    "all_lists = list(b_problems.values_list('tiles', flat=True))\n",
    "_all_list_strs = []\n",
    "for l in all_lists:\n",
    "    _all_list_strs.append(str(sorted(l)))\n",
    "print(len(set(_all_list_strs)))\n",
    "# print(_all_list_strs)\n",
    "\n",
    "# check if any list contains duplicates inside\n",
    "for l in all_lists:\n",
    "    # print(l)\n",
    "    #l = eliminate_duplicate_tiles(l)\n",
    "    _l = [tuple(x) for x in l]\n",
    "    # print(_l)\n",
    "    new_set = set()\n",
    "    for el in _l:\n",
    "        new_set.add(el)\n",
    "    if len(new_set) != 40:\n",
    "        print('duplicate found')\n",
    "        "
   ]
  },
  {
   "cell_type": "code",
   "execution_count": 8,
   "metadata": {},
   "outputs": [
    {
     "ename": "NameError",
     "evalue": "name 'visualize_problem_from_tiles' is not defined",
     "output_type": "error",
     "traceback": [
      "\u001b[0;31m---------------------------------------------------------------------------\u001b[0m",
      "\u001b[0;31mNameError\u001b[0m                                 Traceback (most recent call last)",
      "\u001b[0;32m<ipython-input-8-2e779e6be297>\u001b[0m in \u001b[0;36m<module>\u001b[0;34m\u001b[0m\n\u001b[1;32m     48\u001b[0m     \u001b[0mplt\u001b[0m\u001b[0;34m.\u001b[0m\u001b[0mshow\u001b[0m\u001b[0;34m(\u001b[0m\u001b[0;34m)\u001b[0m\u001b[0;34m\u001b[0m\u001b[0;34m\u001b[0m\u001b[0m\n\u001b[1;32m     49\u001b[0m     \u001b[0mplt\u001b[0m\u001b[0;34m.\u001b[0m\u001b[0mclose\u001b[0m\u001b[0;34m(\u001b[0m\u001b[0;34m)\u001b[0m\u001b[0;34m\u001b[0m\u001b[0;34m\u001b[0m\u001b[0m\n\u001b[0;32m---> 50\u001b[0;31m \u001b[0mvisualize_problem_from_tiles\u001b[0m\u001b[0;34m(\u001b[0m\u001b[0mproblem\u001b[0m\u001b[0;34m)\u001b[0m\u001b[0;34m\u001b[0m\u001b[0;34m\u001b[0m\u001b[0m\n\u001b[0m",
      "\u001b[0;31mNameError\u001b[0m: name 'visualize_problem_from_tiles' is not defined"
     ]
    }
   ],
   "source": [
    "'''\n",
    "visualize solutions\n",
    "'''\n",
    "import matplotlib\n",
    "from matplotlib import pyplot as plt\n",
    "import numpy as np\n",
    "\n",
    "def visualize_grid(grid, rows, cols, lines_tiles=None):\n",
    "    import matplotlib\n",
    "    #matplotlib.use('GTK')\n",
    "    np.random.seed(4)\n",
    "\n",
    "    fig1 = plt.figure()\n",
    "    ax1 = fig1.add_subplot(111, aspect='equal')\n",
    "    ax1.set_xticks(list(range(cols)))\n",
    "    ax1.set_yticks(list(range(rows)))\n",
    "    ax1.grid(True)\n",
    "    print(lines_tiles)\n",
    "    x1margin = -0.5\n",
    "    y1margin = -0.5\n",
    "    if lines_tiles:\n",
    "        for line in lines_tiles:\n",
    "            new_line = []\n",
    "            for point in line:\n",
    "                point = (point[0] + x1margin, point[1] + y1margin)\n",
    "                new_line.append(point)\n",
    "            path = matplotlib.patches.Polygon(new_line, facecolor='none', edgecolor='black',\n",
    "                                   linewidth=5, closed=True, joinstyle='round')\n",
    "            ax1.add_patch(path)\n",
    "    \n",
    "    lines = [\n",
    "        [(0.5, -0.4), (cols -.5, -0.4), (cols -.5, rows -.4), (0.5, rows -.4)]]\n",
    "            \n",
    "    \n",
    "    for line in lines:\n",
    "        path = matplotlib.patches.Polygon(line, facecolor='none', edgecolor='black',\n",
    "                               linewidth=8, closed=True, joinstyle='round')\n",
    "        ax1.add_patch(path)\n",
    "    # https://matplotlib.org/3.1.3/tutorials/colors/colormaps.html\n",
    "    ax1.imshow(grid, cmap=matplotlib.cm.get_cmap('gist_ncar'))\n",
    "    fig1.subplots_adjust(left=0,right=0.9,bottom=0,top=0.9)\n",
    "    plt.axis('off')\n",
    "    plt.xlim(0, cols)\n",
    "    plt.ylim(0, rows)\n",
    "    ax1.set_xlim(0.4, cols -.35)\n",
    "    ax1.set_ylim(-0.5, rows -.3)\n",
    "    plt.figure(1)\n",
    "    plt.show()\n",
    "    plt.close()\n",
    "visualize_problem_from_tiles(problem)"
   ]
  },
  {
   "cell_type": "code",
   "execution_count": 9,
   "metadata": {},
   "outputs": [
    {
     "name": "stdout",
     "output_type": "stream",
     "text": [
      "[[(0, 0), (1, 0), (1, 1), (0, 1)]]\n"
     ]
    },
    {
     "name": "stderr",
     "output_type": "stream",
     "text": [
      "/home/igor/.virtualenvs/vis-api/lib/python3.7/site-packages/django/db/models/fields/__init__.py:1427: RuntimeWarning: DateTimeField Result.created_on received a naive datetime (2020-03-04 00:00:00) while time zone support is active.\n",
      "  RuntimeWarning)\n"
     ]
    },
    {
     "data": {
      "image/png": "[encoded data removed]",
      "text/plain": [
       "<Figure size 432x288 with 1 Axes>"
      ]
     },
     "metadata": {
      "needs_background": "light"
     },
     "output_type": "display_data"
    },
    {
     "name": "stdout",
     "output_type": "stream",
     "text": [
      "[[(0, 0), (1, 0), (1, 1), (0, 1)], [(1, 0), (4, 0), (4, 3), (1, 3)]]\n"
     ]
    },
    {
     "data": {
      "image/png": "[encoded data removed]",
      "text/plain": [
       "<Figure size 432x288 with 1 Axes>"
      ]
     },
     "metadata": {
      "needs_background": "light"
     },
     "output_type": "display_data"
    },
    {
     "name": "stdout",
     "output_type": "stream",
     "text": [
      "[[(0, 0), (1, 0), (1, 1), (0, 1)], [(1, 0), (4, 0), (4, 3), (1, 3)], [(4, 0), (6, 0), (6, 5), (4, 5)]]\n"
     ]
    },
    {
     "data": {
      "image/png": "[encoded data removed]",
      "text/plain": [
       "<Figure size 432x288 with 1 Axes>"
      ]
     },
     "metadata": {
      "needs_background": "light"
     },
     "output_type": "display_data"
    },
    {
     "name": "stdout",
     "output_type": "stream",
     "text": [
      "[[(0, 0), (1, 0), (1, 1), (0, 1)], [(1, 0), (4, 0), (4, 3), (1, 3)], [(4, 0), (6, 0), (6, 5), (4, 5)], [(6, 0), (10, 0), (10, 1), (6, 1)]]\n"
     ]
    },
    {
     "data": {
      "image/png": "[encoded data removed]",
      "text/plain": [
       "<Figure size 432x288 with 1 Axes>"
      ]
     },
     "metadata": {
      "needs_background": "light"
     },
     "output_type": "display_data"
    },
    {
     "name": "stdout",
     "output_type": "stream",
     "text": [
      "[[(0, 0), (1, 0), (1, 1), (0, 1)], [(1, 0), (4, 0), (4, 3), (1, 3)], [(4, 0), (6, 0), (6, 5), (4, 5)], [(6, 0), (10, 0), (10, 1), (6, 1)], [(0, 1), (1, 1), (1, 2), (0, 2)]]\n"
     ]
    },
    {
     "data": {
      "image/png": "[encoded data removed]",
      "text/plain": [
       "<Figure size 432x288 with 1 Axes>"
      ]
     },
     "metadata": {
      "needs_background": "light"
     },
     "output_type": "display_data"
    },
    {
     "name": "stdout",
     "output_type": "stream",
     "text": [
      "[[(0, 0), (1, 0), (1, 1), (0, 1)], [(1, 0), (4, 0), (4, 3), (1, 3)], [(4, 0), (6, 0), (6, 5), (4, 5)], [(6, 0), (10, 0), (10, 1), (6, 1)], [(0, 1), (1, 1), (1, 2), (0, 2)], [(6, 1), (7, 1), (7, 6), (6, 6)]]\n"
     ]
    },
    {
     "data": {
      "image/png": "[encoded data removed]",
      "text/plain": [
       "<Figure size 432x288 with 1 Axes>"
      ]
     },
     "metadata": {
      "needs_background": "light"
     },
     "output_type": "display_data"
    },
    {
     "name": "stdout",
     "output_type": "stream",
     "text": [
      "[[(0, 0), (1, 0), (1, 1), (0, 1)], [(1, 0), (4, 0), (4, 3), (1, 3)], [(4, 0), (6, 0), (6, 5), (4, 5)], [(6, 0), (10, 0), (10, 1), (6, 1)], [(0, 1), (1, 1), (1, 2), (0, 2)], [(6, 1), (7, 1), (7, 6), (6, 6)], [(7, 1), (10, 1), (10, 6), (7, 6)]]\n"
     ]
    },
    {
     "data": {
      "image/png": "[encoded data removed]",
      "text/plain": [
       "<Figure size 432x288 with 1 Axes>"
      ]
     },
     "metadata": {
      "needs_background": "light"
     },
     "output_type": "display_data"
    },
    {
     "name": "stdout",
     "output_type": "stream",
     "text": [
      "[[(0, 0), (1, 0), (1, 1), (0, 1)], [(1, 0), (4, 0), (4, 3), (1, 3)], [(4, 0), (6, 0), (6, 5), (4, 5)], [(6, 0), (10, 0), (10, 1), (6, 1)], [(0, 1), (1, 1), (1, 2), (0, 2)], [(6, 1), (7, 1), (7, 6), (6, 6)], [(7, 1), (10, 1), (10, 6), (7, 6)], [(0, 2), (1, 2), (1, 11), (0, 11)]]\n"
     ]
    },
    {
     "data": {
      "image/png": "[encoded data removed]",
      "text/plain": [
       "<Figure size 432x288 with 1 Axes>"
      ]
     },
     "metadata": {
      "needs_background": "light"
     },
     "output_type": "display_data"
    },
    {
     "name": "stdout",
     "output_type": "stream",
     "text": [
      "[[(0, 0), (1, 0), (1, 1), (0, 1)], [(1, 0), (4, 0), (4, 3), (1, 3)], [(4, 0), (6, 0), (6, 5), (4, 5)], [(6, 0), (10, 0), (10, 1), (6, 1)], [(0, 1), (1, 1), (1, 2), (0, 2)], [(6, 1), (7, 1), (7, 6), (6, 6)], [(7, 1), (10, 1), (10, 6), (7, 6)], [(0, 2), (1, 2), (1, 11), (0, 11)], [(1, 3), (4, 3), (4, 7), (1, 7)]]\n"
     ]
    },
    {
     "data": {
      "image/png": "[encoded data removed]",
      "text/plain": [
       "<Figure size 432x288 with 1 Axes>"
      ]
     },
     "metadata": {
      "needs_background": "light"
     },
     "output_type": "display_data"
    },
    {
     "name": "stdout",
     "output_type": "stream",
     "text": [
      "[[(0, 0), (1, 0), (1, 1), (0, 1)], [(1, 0), (4, 0), (4, 3), (1, 3)], [(4, 0), (6, 0), (6, 5), (4, 5)], [(6, 0), (10, 0), (10, 1), (6, 1)], [(0, 1), (1, 1), (1, 2), (0, 2)], [(6, 1), (7, 1), (7, 6), (6, 6)], [(7, 1), (10, 1), (10, 6), (7, 6)], [(0, 2), (1, 2), (1, 11), (0, 11)], [(1, 3), (4, 3), (4, 7), (1, 7)], [(4, 5), (6, 5), (6, 6), (4, 6)]]\n"
     ]
    },
    {
     "data": {
      "image/png": "[encoded data removed]",
      "text/plain": [
       "<Figure size 432x288 with 1 Axes>"
      ]
     },
     "metadata": {
      "needs_background": "light"
     },
     "output_type": "display_data"
    },
    {
     "name": "stdout",
     "output_type": "stream",
     "text": [
      "[[(0, 0), (1, 0), (1, 1), (0, 1)], [(1, 0), (4, 0), (4, 3), (1, 3)], [(4, 0), (6, 0), (6, 5), (4, 5)], [(6, 0), (10, 0), (10, 1), (6, 1)], [(0, 1), (1, 1), (1, 2), (0, 2)], [(6, 1), (7, 1), (7, 6), (6, 6)], [(7, 1), (10, 1), (10, 6), (7, 6)], [(0, 2), (1, 2), (1, 11), (0, 11)], [(1, 3), (4, 3), (4, 7), (1, 7)], [(4, 5), (6, 5), (6, 6), (4, 6)], [(4, 6), (5, 6), (5, 7), (4, 7)]]\n"
     ]
    },
    {
     "data": {
      "image/png": "[encoded data removed]",
      "text/plain": [
       "<Figure size 432x288 with 1 Axes>"
      ]
     },
     "metadata": {
      "needs_background": "light"
     },
     "output_type": "display_data"
    },
    {
     "name": "stdout",
     "output_type": "stream",
     "text": [
      "[[(0, 0), (1, 0), (1, 1), (0, 1)], [(1, 0), (4, 0), (4, 3), (1, 3)], [(4, 0), (6, 0), (6, 5), (4, 5)], [(6, 0), (10, 0), (10, 1), (6, 1)], [(0, 1), (1, 1), (1, 2), (0, 2)], [(6, 1), (7, 1), (7, 6), (6, 6)], [(7, 1), (10, 1), (10, 6), (7, 6)], [(0, 2), (1, 2), (1, 11), (0, 11)], [(1, 3), (4, 3), (4, 7), (1, 7)], [(4, 5), (6, 5), (6, 6), (4, 6)], [(4, 6), (5, 6), (5, 7), (4, 7)], [(5, 6), (9, 6), (9, 7), (5, 7)]]\n"
     ]
    },
    {
     "data": {
      "image/png": "[encoded data removed]",
      "text/plain": [
       "<Figure size 432x288 with 1 Axes>"
      ]
     },
     "metadata": {
      "needs_background": "light"
     },
     "output_type": "display_data"
    },
    {
     "name": "stdout",
     "output_type": "stream",
     "text": [
      "[[(0, 0), (1, 0), (1, 1), (0, 1)], [(1, 0), (4, 0), (4, 3), (1, 3)], [(4, 0), (6, 0), (6, 5), (4, 5)], [(6, 0), (10, 0), (10, 1), (6, 1)], [(0, 1), (1, 1), (1, 2), (0, 2)], [(6, 1), (7, 1), (7, 6), (6, 6)], [(7, 1), (10, 1), (10, 6), (7, 6)], [(0, 2), (1, 2), (1, 11), (0, 11)], [(1, 3), (4, 3), (4, 7), (1, 7)], [(4, 5), (6, 5), (6, 6), (4, 6)], [(4, 6), (5, 6), (5, 7), (4, 7)], [(5, 6), (9, 6), (9, 7), (5, 7)], [(9, 6), (10, 6), (10, 7), (9, 7)]]\n"
     ]
    },
    {
     "data": {
      "image/png": "[encoded data removed]",
      "text/plain": [
       "<Figure size 432x288 with 1 Axes>"
      ]
     },
     "metadata": {
      "needs_background": "light"
     },
     "output_type": "display_data"
    },
    {
     "name": "stdout",
     "output_type": "stream",
     "text": [
      "[[(0, 0), (1, 0), (1, 1), (0, 1)], [(1, 0), (4, 0), (4, 3), (1, 3)], [(4, 0), (6, 0), (6, 5), (4, 5)], [(6, 0), (10, 0), (10, 1), (6, 1)], [(0, 1), (1, 1), (1, 2), (0, 2)], [(6, 1), (7, 1), (7, 6), (6, 6)], [(7, 1), (10, 1), (10, 6), (7, 6)], [(0, 2), (1, 2), (1, 11), (0, 11)], [(1, 3), (4, 3), (4, 7), (1, 7)], [(4, 5), (6, 5), (6, 6), (4, 6)], [(4, 6), (5, 6), (5, 7), (4, 7)], [(5, 6), (9, 6), (9, 7), (5, 7)], [(9, 6), (10, 6), (10, 7), (9, 7)], [(1, 7), (10, 7), (10, 8), (1, 8)]]\n"
     ]
    },
    {
     "data": {
      "image/png": "[encoded data removed]",
      "text/plain": [
       "<Figure size 432x288 with 1 Axes>"
      ]
     },
     "metadata": {
      "needs_background": "light"
     },
     "output_type": "display_data"
    },
    {
     "name": "stdout",
     "output_type": "stream",
     "text": [
      "[[(0, 0), (1, 0), (1, 1), (0, 1)], [(1, 0), (4, 0), (4, 3), (1, 3)], [(4, 0), (6, 0), (6, 5), (4, 5)], [(6, 0), (10, 0), (10, 1), (6, 1)], [(0, 1), (1, 1), (1, 2), (0, 2)], [(6, 1), (7, 1), (7, 6), (6, 6)], [(7, 1), (10, 1), (10, 6), (7, 6)], [(0, 2), (1, 2), (1, 11), (0, 11)], [(1, 3), (4, 3), (4, 7), (1, 7)], [(4, 5), (6, 5), (6, 6), (4, 6)], [(4, 6), (5, 6), (5, 7), (4, 7)], [(5, 6), (9, 6), (9, 7), (5, 7)], [(9, 6), (10, 6), (10, 7), (9, 7)], [(1, 7), (10, 7), (10, 8), (1, 8)], [(1, 8), (5, 8), (5, 9), (1, 9)]]\n"
     ]
    },
    {
     "data": {
      "image/png": "[encoded data removed]",
      "text/plain": [
       "<Figure size 432x288 with 1 Axes>"
      ]
     },
     "metadata": {
      "needs_background": "light"
     },
     "output_type": "display_data"
    },
    {
     "name": "stdout",
     "output_type": "stream",
     "text": [
      "[[(0, 0), (1, 0), (1, 1), (0, 1)], [(1, 0), (4, 0), (4, 3), (1, 3)], [(4, 0), (6, 0), (6, 5), (4, 5)], [(6, 0), (10, 0), (10, 1), (6, 1)], [(0, 1), (1, 1), (1, 2), (0, 2)], [(6, 1), (7, 1), (7, 6), (6, 6)], [(7, 1), (10, 1), (10, 6), (7, 6)], [(0, 2), (1, 2), (1, 11), (0, 11)], [(1, 3), (4, 3), (4, 7), (1, 7)], [(4, 5), (6, 5), (6, 6), (4, 6)], [(4, 6), (5, 6), (5, 7), (4, 7)], [(5, 6), (9, 6), (9, 7), (5, 7)], [(9, 6), (10, 6), (10, 7), (9, 7)], [(1, 7), (10, 7), (10, 8), (1, 8)], [(1, 8), (5, 8), (5, 9), (1, 9)], [(5, 8), (6, 8), (6, 9), (5, 9)]]\n"
     ]
    },
    {
     "data": {
      "image/png": "[encoded data removed]",
      "text/plain": [
       "<Figure size 432x288 with 1 Axes>"
      ]
     },
     "metadata": {
      "needs_background": "light"
     },
     "output_type": "display_data"
    },
    {
     "name": "stdout",
     "output_type": "stream",
     "text": [
      "[[(0, 0), (1, 0), (1, 1), (0, 1)], [(1, 0), (4, 0), (4, 3), (1, 3)], [(4, 0), (6, 0), (6, 5), (4, 5)], [(6, 0), (10, 0), (10, 1), (6, 1)], [(0, 1), (1, 1), (1, 2), (0, 2)], [(6, 1), (7, 1), (7, 6), (6, 6)], [(7, 1), (10, 1), (10, 6), (7, 6)], [(0, 2), (1, 2), (1, 11), (0, 11)], [(1, 3), (4, 3), (4, 7), (1, 7)], [(4, 5), (6, 5), (6, 6), (4, 6)], [(4, 6), (5, 6), (5, 7), (4, 7)], [(5, 6), (9, 6), (9, 7), (5, 7)], [(9, 6), (10, 6), (10, 7), (9, 7)], [(1, 7), (10, 7), (10, 8), (1, 8)], [(1, 8), (5, 8), (5, 9), (1, 9)], [(5, 8), (6, 8), (6, 9), (5, 9)], [(6, 8), (10, 8), (10, 11), (6, 11)]]\n"
     ]
    },
    {
     "data": {
      "image/png": "[encoded data removed]",
      "text/plain": [
       "<Figure size 432x288 with 1 Axes>"
      ]
     },
     "metadata": {
      "needs_background": "light"
     },
     "output_type": "display_data"
    },
    {
     "name": "stdout",
     "output_type": "stream",
     "text": [
      "[[(0, 0), (1, 0), (1, 1), (0, 1)], [(1, 0), (4, 0), (4, 3), (1, 3)], [(4, 0), (6, 0), (6, 5), (4, 5)], [(6, 0), (10, 0), (10, 1), (6, 1)], [(0, 1), (1, 1), (1, 2), (0, 2)], [(6, 1), (7, 1), (7, 6), (6, 6)], [(7, 1), (10, 1), (10, 6), (7, 6)], [(0, 2), (1, 2), (1, 11), (0, 11)], [(1, 3), (4, 3), (4, 7), (1, 7)], [(4, 5), (6, 5), (6, 6), (4, 6)], [(4, 6), (5, 6), (5, 7), (4, 7)], [(5, 6), (9, 6), (9, 7), (5, 7)], [(9, 6), (10, 6), (10, 7), (9, 7)], [(1, 7), (10, 7), (10, 8), (1, 8)], [(1, 8), (5, 8), (5, 9), (1, 9)], [(5, 8), (6, 8), (6, 9), (5, 9)], [(6, 8), (10, 8), (10, 11), (6, 11)], [(1, 9), (2, 9), (2, 11), (1, 11)]]\n"
     ]
    },
    {
     "data": {
      "image/png": "[encoded data removed]",
      "text/plain": [
       "<Figure size 432x288 with 1 Axes>"
      ]
     },
     "metadata": {
      "needs_background": "light"
     },
     "output_type": "display_data"
    },
    {
     "name": "stdout",
     "output_type": "stream",
     "text": [
      "[[(0, 0), (1, 0), (1, 1), (0, 1)], [(1, 0), (4, 0), (4, 3), (1, 3)], [(4, 0), (6, 0), (6, 5), (4, 5)], [(6, 0), (10, 0), (10, 1), (6, 1)], [(0, 1), (1, 1), (1, 2), (0, 2)], [(6, 1), (7, 1), (7, 6), (6, 6)], [(7, 1), (10, 1), (10, 6), (7, 6)], [(0, 2), (1, 2), (1, 11), (0, 11)], [(1, 3), (4, 3), (4, 7), (1, 7)], [(4, 5), (6, 5), (6, 6), (4, 6)], [(4, 6), (5, 6), (5, 7), (4, 7)], [(5, 6), (9, 6), (9, 7), (5, 7)], [(9, 6), (10, 6), (10, 7), (9, 7)], [(1, 7), (10, 7), (10, 8), (1, 8)], [(1, 8), (5, 8), (5, 9), (1, 9)], [(5, 8), (6, 8), (6, 9), (5, 9)], [(6, 8), (10, 8), (10, 11), (6, 11)], [(1, 9), (2, 9), (2, 11), (1, 11)], [(2, 9), (6, 9), (6, 11), (2, 11)]]\n"
     ]
    },
    {
     "data": {
      "image/png": "[encoded data removed]",
      "text/plain": [
       "<Figure size 432x288 with 1 Axes>"
      ]
     },
     "metadata": {
      "needs_background": "light"
     },
     "output_type": "display_data"
    },
    {
     "name": "stdout",
     "output_type": "stream",
     "text": [
      "[[(0, 0), (1, 0), (1, 1), (0, 1)], [(1, 0), (4, 0), (4, 3), (1, 3)], [(4, 0), (6, 0), (6, 5), (4, 5)], [(6, 0), (10, 0), (10, 1), (6, 1)], [(0, 1), (1, 1), (1, 2), (0, 2)], [(6, 1), (7, 1), (7, 6), (6, 6)], [(7, 1), (10, 1), (10, 6), (7, 6)], [(0, 2), (1, 2), (1, 11), (0, 11)], [(1, 3), (4, 3), (4, 7), (1, 7)], [(4, 5), (6, 5), (6, 6), (4, 6)], [(4, 6), (5, 6), (5, 7), (4, 7)], [(5, 6), (9, 6), (9, 7), (5, 7)], [(9, 6), (10, 6), (10, 7), (9, 7)], [(1, 7), (10, 7), (10, 8), (1, 8)], [(1, 8), (5, 8), (5, 9), (1, 9)], [(5, 8), (6, 8), (6, 9), (5, 9)], [(6, 8), (10, 8), (10, 11), (6, 11)], [(1, 9), (2, 9), (2, 11), (1, 11)], [(2, 9), (6, 9), (6, 11), (2, 11)], [(0, 11), (10, 11), (10, 15), (0, 15)]]\n"
     ]
    },
    {
     "data": {
      "image/png": "[encoded data removed]",
      "text/plain": [
       "<Figure size 432x288 with 1 Axes>"
      ]
     },
     "metadata": {
      "needs_background": "light"
     },
     "output_type": "display_data"
    },
    {
     "name": "stdout",
     "output_type": "stream",
     "text": [
      "[[(0, 0), (1, 0), (1, 1), (0, 1)], [(1, 0), (4, 0), (4, 3), (1, 3)], [(4, 0), (6, 0), (6, 5), (4, 5)], [(6, 0), (10, 0), (10, 1), (6, 1)], [(0, 1), (1, 1), (1, 2), (0, 2)], [(6, 1), (7, 1), (7, 6), (6, 6)], [(7, 1), (10, 1), (10, 6), (7, 6)], [(0, 2), (1, 2), (1, 11), (0, 11)], [(1, 3), (4, 3), (4, 7), (1, 7)], [(4, 5), (6, 5), (6, 6), (4, 6)], [(4, 6), (5, 6), (5, 7), (4, 7)], [(5, 6), (9, 6), (9, 7), (5, 7)], [(9, 6), (10, 6), (10, 7), (9, 7)], [(1, 7), (10, 7), (10, 8), (1, 8)], [(1, 8), (5, 8), (5, 9), (1, 9)], [(5, 8), (6, 8), (6, 9), (5, 9)], [(6, 8), (10, 8), (10, 11), (6, 11)], [(1, 9), (2, 9), (2, 11), (1, 11)], [(2, 9), (6, 9), (6, 11), (2, 11)], [(0, 11), (10, 11), (10, 15), (0, 15)]]\n"
     ]
    },
    {
     "data": {
      "image/png": "[encoded data removed]",
      "text/plain": [
       "<Figure size 432x288 with 1 Axes>"
      ]
     },
     "metadata": {
      "needs_background": "light"
     },
     "output_type": "display_data"
    }
   ],
   "source": [
    "import datetime, json\n",
    "from solution_checker import SolutionChecker\n",
    "problems = Result.objects.filter(created_on__gte=datetime.datetime(2020, 3, 4), solution_found=True, score=0, n_tiles=20, problem_generator='guillotine')\n",
    "seen = set()\n",
    "for problem in problems[:20]:\n",
    "    if (problem.cols, problem.rows) in seen:\n",
    "        continue\n",
    "    else:\n",
    "        seen.add((problem.cols, problem.rows))\n",
    "    try:\n",
    "        visualize_problem_from_tiles(problem)\n",
    "    except:\n",
    "        pass\n",
    "def visualize_problem_from_tiles(problem):\n",
    "    grid = np.zeros((problem.rows, problem.cols))\n",
    "    tiles = json.loads(problem.solution_tiles_order)\n",
    "    color_o, color_e = 1, 20\n",
    "    lines = []\n",
    "    for i, tile in enumerate(tiles):\n",
    "        if i % 2 == 0:\n",
    "            color = color_o\n",
    "            color_o += 1\n",
    "        else:\n",
    "            color = color_e\n",
    "            color_e -= 1\n",
    "        next_lfb = SolutionChecker.get_next_lfb_on_grid(grid)\n",
    "        success, grid = SolutionChecker.place_element_on_grid_given_grid(\n",
    "            tile, next_lfb, color, grid, problem.cols, problem.rows)\n",
    "        y, x = next_lfb\n",
    "        lines.append([(x, y), (x+tile[1], y), (x + tile[1], y + tile[0]), (x, y+tile[0])])\n",
    "        visualize_grid(grid, problem.rows, problem.cols, lines)\n",
    "    visualize_grid(grid, problem.rows, problem.cols, lines)\n",
    "visualize_problem_from_tiles(problem)"
   ]
  },
  {
   "cell_type": "code",
   "execution_count": 10,
   "metadata": {},
   "outputs": [],
   "source": [
    "import json\n",
    "from solution_checker import SolutionChecker\n",
    "easy_ones = [\n",
    "    'results/20.0_10_10__1000_tree.json',\n",
    "    'results/20.0_20_13__1000_tree.json',\n",
    "    'results/20.0_10_24__5000_tree.json',\n",
    "    'results/20.0_11_11__5000_tree.json',\n",
    "]\n",
    "hard_b_ones =  [\n",
    "    'results/20.0_15_28__5000_tree.json',\n",
    "]\n",
    "def visualize_problem(height, width):\n",
    "    problem_file = easy_ones[0]\n",
    "    #problem_file = hard_b_ones[0]\n",
    "    with open(f'results/20.0_{width}_{height}__5000_tree.json', 'r') as f:\n",
    "        tree = json.loads(f.read())\n",
    "\n",
    "    import copy\n",
    "    initial_grid = copy.deepcopy(tree['board'])\n",
    "    print(len(initial_grid))\n",
    "    color_o = 0\n",
    "    tilesis_over = False\n",
    "    color_switch = 0\n",
    "    while True:\n",
    "        color_switch += 1\n",
    "        if color_switch % 2 == 0:\n",
    "            color = color_e\n",
    "            color_e -= 1\n",
    "        else:\n",
    "            color = 20 - color_o\n",
    "            color_o += 1\n",
    "        for i, row in enumerate(tree['board']):\n",
    "            for j, col in enumerate(row):\n",
    "                if initial_grid[i][j] == 0 and col == 1:\n",
    "                    initial_grid[i][j] = color\n",
    "        if color_switch == 3:\n",
    "            '''\n",
    "            the solution skips one state here. need to create it.\n",
    "            we do it by iterating over the tile in LFB\n",
    "            '''\n",
    "\n",
    "            i = next_lfb[0]\n",
    "            j = next_lfb[1]\n",
    "            i1, j1 = SolutionChecker.get_next_lfb_on_grid(np.array(tree['board']))\n",
    "            while initial_grid[i+1] == initial_grid[i+1][j1]:  # go all the way upto top\n",
    "                i += 1\n",
    "            if initial_grid[i+1][j] != initial_grid[i+1][j1]:\n",
    "                if initial_grid[i+1][j] == 0:\n",
    "                    # left tile is smaller\n",
    "                    while initial_grid[i+1][j] == 0:\n",
    "                        j += 1\n",
    "                    col_to_point_on = j - 1\n",
    "                else:\n",
    "                    while initial_grid[i+1][j] != 0:\n",
    "                        j += 1\n",
    "                    col_to_point_on = j - 1\n",
    "            if col_to_point_on:\n",
    "                for _i in range(next_lfb[0], len(tree['board'])):\n",
    "                    for _j in range(col_to_point_on, len(tree['board'][0])):\n",
    "                        if initial_grid[_i][_j] != 0:\n",
    "                            initial_grid[_i][_j] = color_o\n",
    "                color_o += 1\n",
    "            else:\n",
    "                continue\n",
    "        # visualize_grid(initial_grid, len(initial_grid), len(initial_grid[0]))\n",
    "\n",
    "        next_lfb = SolutionChecker.get_next_lfb_on_grid(np.array(initial_grid))\n",
    "        if is_over:\n",
    "            break\n",
    "        if tree['children']:\n",
    "            is_over=True\n",
    "            for child in tree['children']:\n",
    "                if child['children']:\n",
    "                    tree = child\n",
    "                    is_over = False\n",
    "                    break\n",
    "            # print(color)\n",
    "            #print(tree['board'])\n",
    "            # visualize_grid(initial_grid, len(initial_grid), len(initial_grid[0]))\n",
    "        else:\n",
    "            #print(initial_grid, color)\n",
    "            #print(tree['board'])\n",
    "            break\n",
    "\n",
    "    visualize_grid(initial_grid, len(initial_grid), len(initial_grid[0]))\n",
    "\n",
    "        # tree = child\n",
    "        #if child['children']:\n",
    "        #    tree = child\n"
   ]
  },
  {
   "cell_type": "code",
   "execution_count": null,
   "metadata": {},
   "outputs": [],
   "source": []
  },
  {
   "cell_type": "code",
   "execution_count": 11,
   "metadata": {},
   "outputs": [],
   "source": [
    "'''\n",
    "Output just problems to csvs\n",
    "'''\n",
    "g_problems = Result.objects.filter(problem_id__in=best_problem_ids, n_simulations=5000, \n",
    "                                 improved_sel=True, strategy='max_depth', score__isnull=False\n",
    "                                 ).values('rows', 'cols', 'tiles', 'n_tiles')\n",
    "\n",
    "b_problems = Result.objects.filter(their_id__in=best_their_ids, n_simulations=5000, \n",
    "                                 improved_sel=True, strategy='max_depth', score__isnull=False\n",
    "                                 ).values('rows', 'cols', 'tiles', 'n_tiles', 'their_id')\n",
    "\n",
    "       \n",
    "import csv, os\n",
    "for file_name, problems in [('problems_g.csv', g_problems), ('problems_b.csv', b_problems)]:\n",
    "    with open(os.path.join('problems/', file_name), 'w') as csv_file:\n",
    "        fieldnames = ['rows', 'cols', 'tiles', 'n_tiles']\n",
    "        if file_name == 'problems_b.csv':\n",
    "            fieldnames.append('external_id')\n",
    "        csv_writer = csv.writer(csv_file, delimiter=';')\n",
    "        csv_writer.writerow(fieldnames)\n",
    "        for problem in problems:\n",
    "            row = [problem['rows'], problem['cols'],\n",
    "                   str(eliminate_duplicate_tiles(problem['tiles'])), problem['n_tiles']]\n",
    "            if file_name == 'problems_b.csv':\n",
    "                row.append(problem['their_id'])\n",
    "            csv_writer.writerow(row)\n"
   ]
  },
  {
   "cell_type": "code",
   "execution_count": 12,
   "metadata": {},
   "outputs": [],
   "source": [
    "'''\n",
    "Output problems to F. Braam solver csv style\n",
    "'''\n",
    "g_problems = Result.objects.filter(their_id__in=best_their_ids, n_simulations=5000, \n",
    "                                 improved_sel=True, strategy='max_depth', score__isnull=False\n",
    "                                 ).values('rows', 'cols', 'tiles', 'n_tiles', 'problem_id', 'id')\n",
    "      \n",
    "import json\n",
    "def tiles_to_braam_json(tiles):\n",
    "    _tiles = []\n",
    "    for tile in tiles:\n",
    "        x = tile[0]\n",
    "        y = tile[1]\n",
    "        if tile[0] > tile[1]:\n",
    "            x = tile[0]\n",
    "            y = tile[1]\n",
    "        else:\n",
    "            x = tile[1]\n",
    "            y = tile[0]\n",
    "        _tiles.append({'X': x, 'Y': y})\n",
    "    _tiles_str = json.dumps(_tiles)\n",
    "    _tiles_str =  _tiles_str.replace(' ', '')\n",
    "    return _tiles_str\n",
    "    \n",
    "import csv, os\n",
    "for file_name, problems in [('problems_b_braam.csv', g_problems)]:\n",
    "    with open(os.path.join('problems/', file_name), 'w') as csv_file:\n",
    "        fieldnames = ['job_id', 'puzzle_id', 'num_tiles', 'board_width', 'board_height', 'tiles', 'start', 'end', 'problem_id']\n",
    "        csv_writer = csv.writer(csv_file, delimiter=',' , quoting=csv.QUOTE_ALL)\n",
    "        csv_writer.writerow(fieldnames)\n",
    "        for i, problem in enumerate(problems):\n",
    "            tiles = eliminate_duplicate_tiles(problem['tiles'])\n",
    "            tiles = tiles_to_braam_json(tiles)\n",
    "            row = [\n",
    "                problem['id'], problem['id'], problem['n_tiles'],\n",
    "                problem['rows'], problem['cols'],\n",
    "                   tiles,\n",
    "                \"\", \"\", problem['problem_id']\n",
    "            ]\n",
    "            csv_writer.writerow(row)\n"
   ]
  },
  {
   "cell_type": "code",
   "execution_count": 13,
   "metadata": {},
   "outputs": [
    {
     "name": "stdout",
     "output_type": "stream",
     "text": [
      "**************************************************\n",
      "**************************************************\n"
     ]
    }
   ],
   "source": [
    "'''\n",
    "Output problems with results to csv\n",
    "'''\n",
    "\n",
    "N_SIM = [100, 200, 500, 1000, 2000, 5000]\n",
    "\n",
    "import csv, os\n",
    "for file_name in ['results_g.csv', 'results_b.csv']:\n",
    "    # find same problem instances\n",
    "    with open(os.path.join('csv_results/', file_name), 'w') as csv_file:\n",
    "        print('*' * 50)\n",
    "        fieldnames = ['rows', 'cols', 'tiles', 'n_tiles',\n",
    "                      'strategy', 'n_simulations', 'score',\n",
    "                      'solution_found',  'n_tiles_placed', 'created_on']\n",
    "        if file_name == 'results_b.csv':\n",
    "            fieldnames.append('external_id')\n",
    "        csv_writer = csv.writer(csv_file, delimiter=';')\n",
    "        csv_writer.writerow(fieldnames)\n",
    "        for n_sim in N_SIM:\n",
    "            if file_name == 'results_g.csv':\n",
    "                problems = Result.objects.filter(\n",
    "                    problem_id__in=best_problem_ids, n_simulations=n_sim, \n",
    "                    improved_sel=True, score__isnull=False\n",
    "                ).values()\n",
    "            else:\n",
    "                problems = Result.objects.filter(\n",
    "                    their_id__in=best_their_ids, n_simulations=n_sim, \n",
    "                    improved_sel=True, score__isnull=False\n",
    "                ).values()\n",
    "\n",
    "            for problem in problems:\n",
    "                row = [problem['rows'], problem['cols'],\n",
    "                       str(eliminate_duplicate_tiles(problem['tiles'])), problem['n_tiles']]\n",
    "                for fieldname in fieldnames[4:-1]:\n",
    "                    row.append(problem[fieldname])\n",
    "                if file_name == 'results_b.csv':\n",
    "                    row.append(problem['their_id'])\n",
    "                csv_writer.writerow(row)\n"
   ]
  },
  {
   "cell_type": "code",
   "execution_count": 14,
   "metadata": {},
   "outputs": [
    {
     "name": "stdout",
     "output_type": "stream",
     "text": [
      "1000\n",
      "1000\n",
      "<class 'django.db.models.query.QuerySet'>\n"
     ]
    },
    {
     "data": {
      "text/plain": [
       "Text(0.5, 51.0, 'columns')"
      ]
     },
     "execution_count": 14,
     "metadata": {},
     "output_type": "execute_result"
    },
    {
     "data": {
      "image/png": "[encoded data removed]",
      "text/plain": [
       "<Figure size 576x576 with 2 Axes>"
      ]
     },
     "metadata": {
      "needs_background": "light"
     },
     "output_type": "display_data"
    }
   ],
   "source": [
    "import pandas as pd\n",
    "print(len(best_problem_ids))\n",
    "rows_cols = Result.objects.filter(problem_id__in=best_problem_ids, n_simulations=5000, \n",
    "                                 improved_sel=True, strategy='max_depth', score__isnull=False\n",
    "                                 ).values('rows', 'cols')\n",
    "print(len(rows_cols))\n",
    "print(type(rows_cols))\n",
    "rows_cols = [{'rows': x['rows'], 'cols': x['cols']} for x in rows_cols]\n",
    "df = pd.DataFrame(rows_cols)\n",
    "matrix = np.zeros((41, 41))\n",
    "for v in rows_cols:\n",
    "    matrix[v['rows'], v['cols']] += 1\n",
    "matrix = matrix[10:, 10:]\n",
    "plt.figure(figsize=(8,8))\n",
    "plt.title('G instances: rows, columns distribution')\n",
    "pd = pd.DataFrame(matrix, columns=range(10, 41), index=range(10, 41))\n",
    "sns.heatmap(pd, cmap='YlGnBu')\n",
    "plt.ylabel('rows')\n",
    "plt.xlabel('columns')"
   ]
  },
  {
   "cell_type": "code",
   "execution_count": 15,
   "metadata": {},
   "outputs": [
    {
     "name": "stdout",
     "output_type": "stream",
     "text": [
      "Count of squares in problems: defaultdict(<class 'int'>, {(1, 1): 5542, (4, 4): 238, (2, 2): 482, (8, 8): 44, (3, 3): 134, (6, 6): 88, (9, 9): 38, (5, 5): 72, (7, 7): 46, (14, 14): 18, (20, 20): 2, (10, 10): 12, (13, 13): 8, (16, 16): 20, (12, 12): 4, (24, 24): 2, (11, 11): 6, (21, 21): 2, (15, 15): 8, (22, 22): 2, (18, 18): 2, (17, 17): 2})\n"
     ]
    }
   ],
   "source": [
    "tiles = Result.objects.filter(problem_id__in=best_problem_ids, n_simulations=5000, \n",
    "                                 improved_sel=True, strategy='max_depth', score__isnull=False\n",
    "                                 ).values('tiles')\n",
    "\n",
    "from collections import defaultdict\n",
    "tiles_count = defaultdict(int)\n",
    "for tile_dict in tiles:\n",
    "    _tiles = tile_dict['tiles']\n",
    "    for one_tile in _tiles:\n",
    "        if one_tile[0] == one_tile[1]:\n",
    "            tiles_count[(one_tile[0], one_tile[1])] += 1\n",
    "            \n",
    "print('Count of squares in problems:', tiles_count)\n",
    "\n",
    "            \n",
    "    \n",
    "    "
   ]
  },
  {
   "cell_type": "code",
   "execution_count": 45,
   "metadata": {},
   "outputs": [
    {
     "name": "stdout",
     "output_type": "stream",
     "text": [
      "1000\n",
      "1000\n"
     ]
    }
   ],
   "source": [
    "print(len(best_problem_ids))\n",
    "print(len(best_their_ids))"
   ]
  },
  {
   "cell_type": "code",
   "execution_count": 17,
   "metadata": {},
   "outputs": [],
   "source": [
    "'''\n",
    "How many problems have duplicate tiles?\n",
    "How many problems have squares?\n",
    "How many problems have tiles bigger than col or width?\n",
    "'''\n",
    "\n",
    "from collections import defaultdict\n",
    "def has_squares(tiles, with_1_1=False):\n",
    "    for tile in tiles:\n",
    "        if tile[0] == tile[1]:\n",
    "            if with_1_1 and tile[0] == 1:\n",
    "                continue\n",
    "            else:\n",
    "                return True\n",
    "    return False\n",
    "\n",
    "def has_duplicates(tiles, ignore_squares=False):\n",
    "    tiles_count = defaultdict(int)\n",
    "    for tile in tiles:\n",
    "        str_tile = str(tile)\n",
    "        tiles_count[str_tile] += 1\n",
    "        if tiles_count[str_tile] > 2 and tile[0] == tile[1]:\n",
    "            return True\n",
    "        if tiles_count[str_tile] > 1 and tile[0] != tile[1]:\n",
    "            return True\n",
    "    return False\n",
    "\n",
    "def has_tile_bigger_than_width_height(tiles, rows, cols):\n",
    "    for tile in tiles:\n",
    "        if tile[0] > rows or tile[1] > cols or tile[0] > cols or tile[1] > rows:\n",
    "            return True\n",
    "    return False"
   ]
  },
  {
   "cell_type": "code",
   "execution_count": 18,
   "metadata": {},
   "outputs": [
    {
     "name": "stdout",
     "output_type": "stream",
     "text": [
      "G problems with squares: 941\n",
      "G problems with squares (ignoring (1, 1) tile): 429\n",
      "G problems with duplicate tiles: 1000\n",
      "G problems with frames that cannot accomodate all tiles both horizontally and vertically: 607\n"
     ]
    }
   ],
   "source": [
    "common_args = {'problem_generator': 'guillotine', 'improved_sel': True, 'n_simulations': 1000}\n",
    "g_max_depth_instances = Result.objects.filter(problem_id__in=best_problem_ids, strategy='max_depth', **common_args)\n",
    "distinct_problems = g_max_depth_instances.values('tiles', 'cols', 'rows').distinct()\n",
    "\n",
    "n_with_squares = 0\n",
    "n_with_squares_excluding_1_1 = 0\n",
    "n_with_duplicates = 0\n",
    "n_with_duplicates_ign_s = 0\n",
    "n_tile_bigger_than_width_height = 0\n",
    "n_frames_that_cannot_accomodate = 0\n",
    "computed_problems = set()\n",
    "for problem in distinct_problems:\n",
    "    problem_str = (problem['cols'], problem['rows'], str(problem['tiles']))\n",
    "    if problem_str in computed_problems:\n",
    "        continue\n",
    "    else:\n",
    "        computed_problems.add(problem_str)\n",
    "    if has_squares(problem['tiles']):\n",
    "        n_with_squares += 1\n",
    "    if has_squares(problem['tiles'], with_1_1=True):\n",
    "        n_with_squares_excluding_1_1 += 1\n",
    "    if has_duplicates(problem['tiles']):\n",
    "        n_with_duplicates += 1\n",
    "    if has_duplicates(problem['tiles'], ignore_squares=True):\n",
    "        n_with_duplicates_ign_s += 1\n",
    "    if has_tile_bigger_than_width_height(problem['tiles'], problem['rows'], problem['cols']):\n",
    "        n_frames_that_cannot_accomodate += 1\n",
    "    \n",
    "print(f'G problems with squares: {n_with_squares}')\n",
    "print(f'G problems with squares (ignoring (1, 1) tile): {n_with_squares_excluding_1_1}')\n",
    "print(f'G problems with duplicate tiles: {n_with_duplicates}')\n",
    "print('G problems with frames that cannot accomodate '\n",
    "      f'all tiles both horizontally and vertically: {n_frames_that_cannot_accomodate}')"
   ]
  },
  {
   "cell_type": "code",
   "execution_count": 19,
   "metadata": {},
   "outputs": [],
   "source": [
    "def visualize_qs(qs):\n",
    "    for p in qs:\n",
    "        try:\n",
    "            print(p.rows, p.cols)\n",
    "            visualize_problem(p.rows, p.cols)\n",
    "        except Exception as e:\n",
    "            print(f'Exceeption {e} occurred')"
   ]
  },
  {
   "cell_type": "code",
   "execution_count": 20,
   "metadata": {},
   "outputs": [
    {
     "name": "stdout",
     "output_type": "stream",
     "text": [
      "Hardest G max_depth problems:\n",
      "(score)unplaced_tiles: 3.0; placed_tiles: 14753004; height: 27; width: 36; tiles: [[1, 1], [1, 1], [1, 1], [1, 1], [5, 1], [7, 1], [9, 1], [10, 1], [10, 1], [11, 1], [14, 1], [16, 1], [16, 1], [36, 1], [2, 2], [2, 2], [3, 2], [21, 2], [2, 3], [5, 3], [9, 3], [17, 3], [1, 5], [3, 5], [1, 7], [36, 8], [1, 9], [3, 9], [1, 10], [1, 10], [1, 11], [31, 13], [1, 14], [1, 16], [1, 16], [3, 17], [2, 21], [13, 31], [1, 36], [8, 36]]\n",
      "(score)unplaced_tiles: 3.0; placed_tiles: 10670831; height: 19; width: 40; tiles: [[1, 1], [1, 1], [1, 1], [1, 1], [1, 1], [1, 1], [1, 1], [1, 1], [2, 1], [6, 1], [20, 1], [35, 1], [1, 2], [6, 2], [6, 2], [14, 2], [20, 2], [35, 2], [3, 3], [3, 3], [5, 3], [10, 4], [3, 5], [8, 5], [1, 6], [2, 6], [2, 6], [17, 6], [5, 8], [4, 10], [16, 10], [15, 11], [2, 14], [11, 15], [10, 16], [6, 17], [1, 20], [2, 20], [1, 35], [2, 35]]\n",
      "\n",
      "Hardest G avg_depth problems:\n",
      "(score)unplaced_tiles: 4.0; placed_tiles: 12612987; height: 16; width: 33; tiles: [[1, 1], [1, 1], [1, 1], [1, 1], [2, 1], [2, 1], [6, 1], [6, 1], [6, 1], [14, 1], [20, 1], [29, 1], [1, 2], [1, 2], [3, 2], [5, 2], [2, 3], [3, 3], [3, 3], [4, 3], [4, 3], [9, 3], [3, 4], [3, 4], [12, 4], [21, 4], [22, 4], [2, 5], [29, 5], [1, 6], [1, 6], [1, 6], [3, 9], [4, 12], [1, 14], [1, 20], [4, 21], [4, 22], [1, 29], [5, 29]]\n",
      "(score)unplaced_tiles: 4.0; placed_tiles: 12357069; height: 14; width: 40; tiles: [[1, 1], [1, 1], [3, 1], [4, 1], [4, 1], [7, 1], [14, 1], [36, 1], [2, 2], [2, 2], [2, 2], [2, 2], [7, 2], [1, 3], [5, 3], [6, 3], [1, 4], [1, 4], [4, 4], [4, 4], [5, 4], [5, 4], [10, 4], [18, 4], [22, 4], [3, 5], [4, 5], [4, 5], [17, 5], [19, 5], [3, 6], [1, 7], [2, 7], [4, 10], [1, 14], [5, 17], [4, 18], [5, 19], [4, 22], [1, 36]]\n",
      "(score)unplaced_tiles: 4.0; placed_tiles: 10311366; height: 12; width: 38; tiles: [[1, 1], [1, 1], [1, 1], [1, 1], [1, 1], [1, 1], [1, 1], [1, 1], [2, 1], [2, 1], [4, 1], [4, 1], [11, 1], [15, 1], [1, 2], [1, 2], [3, 2], [6, 2], [14, 2], [26, 2], [26, 2], [26, 2], [38, 2], [2, 3], [1, 4], [1, 4], [6, 4], [16, 4], [2, 6], [4, 6], [8, 6], [6, 8], [1, 11], [2, 14], [1, 15], [4, 16], [2, 26], [2, 26], [2, 26], [2, 38]]\n",
      "(score)unplaced_tiles: 4.0; placed_tiles: 8846489; height: 20; width: 39; tiles: [[1, 1], [1, 1], [3, 1], [3, 1], [16, 1], [19, 1], [26, 1], [4, 2], [4, 2], [4, 2], [14, 2], [14, 2], [26, 2], [30, 2], [34, 2], [1, 3], [1, 3], [8, 3], [9, 3], [9, 3], [34, 3], [2, 4], [2, 4], [2, 4], [17, 4], [34, 6], [3, 8], [3, 9], [3, 9], [2, 14], [2, 14], [1, 16], [4, 17], [1, 19], [1, 26], [2, 26], [2, 30], [2, 34], [3, 34], [6, 34]]\n",
      "\n",
      "Easiest 3 G avg_depth problems:\n",
      "(score)unplaced_tiles: 0.0; placed_tiles: 600; height: 20; width: 13; tiles: [[1, 1], [1, 1], [1, 1], [1, 1], [1, 1], [1, 1], [1, 1], [1, 1], [1, 1], [1, 1], [1, 1], [1, 1], [1, 1], [1, 1], [1, 1], [1, 1], [1, 1], [1, 1], [1, 1], [1, 1], [2, 1], [3, 1], [8, 1], [9, 1], [12, 1], [16, 1], [16, 1], [1, 2], [12, 2], [1, 3], [16, 3], [16, 7], [1, 8], [1, 9], [1, 12], [2, 12], [1, 16], [1, 16], [3, 16], [7, 16]]\n",
      "(score)unplaced_tiles: 0.0; placed_tiles: 712; height: 10; width: 24; tiles: [[1, 1], [1, 1], [1, 1], [1, 1], [1, 1], [1, 1], [1, 1], [1, 1], [1, 1], [1, 1], [1, 1], [1, 1], [1, 1], [1, 1], [2, 1], [3, 1], [4, 1], [5, 1], [5, 1], [5, 1], [6, 1], [9, 1], [10, 1], [14, 1], [14, 1], [24, 1], [1, 2], [1, 3], [1, 4], [1, 5], [1, 5], [1, 5], [1, 6], [22, 6], [1, 9], [1, 10], [1, 14], [1, 14], [6, 22], [1, 24]]\n",
      "(score)unplaced_tiles: 0.0; placed_tiles: 740; height: 39; width: 38; tiles: [[1, 1], [1, 1], [1, 1], [1, 1], [1, 1], [1, 1], [1, 1], [1, 1], [1, 1], [1, 1], [1, 1], [1, 1], [1, 1], [1, 1], [2, 1], [2, 1], [3, 1], [4, 1], [5, 1], [7, 1], [8, 1], [9, 1], [12, 1], [14, 1], [15, 1], [26, 1], [1, 2], [1, 2], [1, 3], [1, 4], [1, 5], [1, 7], [1, 8], [1, 9], [1, 12], [1, 14], [1, 15], [1, 26], [38, 36], [36, 38]]\n",
      "\n",
      "Easiest 3 G max_depth problems:\n",
      "(score)unplaced_tiles: 0.0; placed_tiles: 600; height: 20; width: 13; tiles: [[1, 1], [1, 1], [1, 1], [1, 1], [1, 1], [1, 1], [1, 1], [1, 1], [1, 1], [1, 1], [1, 1], [1, 1], [1, 1], [1, 1], [1, 1], [1, 1], [1, 1], [1, 1], [1, 1], [1, 1], [2, 1], [3, 1], [8, 1], [9, 1], [12, 1], [16, 1], [16, 1], [1, 2], [12, 2], [1, 3], [16, 3], [16, 7], [1, 8], [1, 9], [1, 12], [2, 12], [1, 16], [1, 16], [3, 16], [7, 16]]\n",
      "(score)unplaced_tiles: 0.0; placed_tiles: 712; height: 10; width: 24; tiles: [[1, 1], [1, 1], [1, 1], [1, 1], [1, 1], [1, 1], [1, 1], [1, 1], [1, 1], [1, 1], [1, 1], [1, 1], [1, 1], [1, 1], [2, 1], [3, 1], [4, 1], [5, 1], [5, 1], [5, 1], [6, 1], [9, 1], [10, 1], [14, 1], [14, 1], [24, 1], [1, 2], [1, 3], [1, 4], [1, 5], [1, 5], [1, 5], [1, 6], [22, 6], [1, 9], [1, 10], [1, 14], [1, 14], [6, 22], [1, 24]]\n",
      "(score)unplaced_tiles: 0.0; placed_tiles: 740; height: 39; width: 38; tiles: [[1, 1], [1, 1], [1, 1], [1, 1], [1, 1], [1, 1], [1, 1], [1, 1], [1, 1], [1, 1], [1, 1], [1, 1], [1, 1], [1, 1], [2, 1], [2, 1], [3, 1], [4, 1], [5, 1], [7, 1], [8, 1], [9, 1], [12, 1], [14, 1], [15, 1], [26, 1], [1, 2], [1, 2], [1, 3], [1, 4], [1, 5], [1, 7], [1, 8], [1, 9], [1, 12], [1, 14], [1, 15], [1, 26], [38, 36], [36, 38]]\n",
      "(score)unplaced_tiles: 0.0; placed_tiles: 917; height: 16; width: 10; tiles: [[1, 1], [1, 1], [1, 1], [1, 1], [1, 1], [1, 1], [1, 1], [1, 1], [1, 1], [1, 1], [1, 1], [1, 1], [1, 1], [1, 1], [1, 1], [1, 1], [2, 1], [2, 1], [3, 1], [4, 1], [4, 1], [5, 1], [5, 1], [6, 1], [10, 1], [1, 2], [1, 2], [1, 3], [9, 3], [1, 4], [1, 4], [6, 4], [1, 5], [1, 5], [1, 6], [4, 6], [10, 6], [3, 9], [1, 10], [6, 10]]\n",
      "(score)unplaced_tiles: 0.0; placed_tiles: 1135; height: 15; width: 12; tiles: [[1, 1], [1, 1], [1, 1], [1, 1], [1, 1], [1, 1], [1, 1], [1, 1], [1, 1], [1, 1], [1, 1], [1, 1], [2, 1], [2, 1], [2, 1], [2, 1], [2, 1], [2, 1], [2, 1], [2, 1], [6, 1], [1, 2], [1, 2], [1, 2], [1, 2], [1, 2], [1, 2], [1, 2], [1, 2], [3, 2], [4, 2], [2, 3], [10, 3], [2, 4], [9, 5], [1, 6], [9, 7], [5, 9], [7, 9], [3, 10]]\n",
      "(score)unplaced_tiles: 0.0; placed_tiles: 1162; height: 13; width: 10; tiles: [[1, 1], [1, 1], [1, 1], [1, 1], [1, 1], [1, 1], [1, 1], [1, 1], [1, 1], [1, 1], [2, 1], [2, 1], [4, 1], [5, 1], [5, 1], [5, 1], [6, 1], [6, 1], [7, 1], [9, 1], [10, 1], [1, 2], [1, 2], [2, 2], [2, 2], [2, 2], [2, 2], [7, 2], [1, 4], [1, 5], [1, 5], [1, 5], [1, 6], [1, 6], [7, 6], [1, 7], [2, 7], [6, 7], [1, 9], [1, 10]]\n",
      "(score)unplaced_tiles: 0.0; placed_tiles: 1707; height: 21; width: 13; tiles: [[1, 1], [1, 1], [1, 1], [1, 1], [1, 1], [1, 1], [2, 1], [2, 1], [2, 1], [3, 1], [3, 1], [3, 1], [3, 1], [3, 1], [4, 1], [4, 1], [4, 1], [5, 1], [1, 2], [1, 2], [1, 2], [2, 2], [2, 2], [4, 2], [1, 3], [1, 3], [1, 3], [1, 3], [1, 3], [4, 3], [1, 4], [1, 4], [1, 4], [2, 4], [3, 4], [1, 5], [16, 6], [16, 7], [6, 16], [7, 16]]\n",
      "(score)unplaced_tiles: 0.0; placed_tiles: 2633; height: 10; width: 10; tiles: [[1, 1], [1, 1], [1, 1], [1, 1], [1, 1], [1, 1], [1, 1], [1, 1], [2, 1], [2, 1], [2, 1], [2, 1], [3, 1], [3, 1], [3, 1], [4, 1], [4, 1], [5, 1], [6, 1], [6, 1], [1, 2], [1, 2], [1, 2], [1, 2], [4, 2], [4, 2], [1, 3], [1, 3], [1, 3], [6, 3], [1, 4], [1, 4], [2, 4], [2, 4], [5, 4], [1, 5], [4, 5], [1, 6], [1, 6], [3, 6]]\n",
      "(score)unplaced_tiles: 0.0; placed_tiles: 2634; height: 38; width: 34; tiles: [[1, 1], [1, 1], [1, 1], [1, 1], [1, 1], [1, 1], [1, 1], [1, 1], [1, 1], [1, 1], [1, 1], [1, 1], [1, 1], [1, 1], [1, 1], [1, 1], [1, 1], [1, 1], [1, 1], [1, 1], [1, 1], [1, 1], [1, 1], [1, 1], [2, 1], [2, 1], [4, 1], [5, 1], [9, 1], [1, 2], [1, 2], [1, 4], [37, 4], [37, 4], [1, 5], [1, 9], [37, 26], [4, 37], [4, 37], [26, 37]]\n",
      "(score)unplaced_tiles: 0.0; placed_tiles: 3155; height: 35; width: 29; tiles: [[1, 1], [1, 1], [1, 1], [1, 1], [1, 1], [1, 1], [1, 1], [1, 1], [1, 1], [1, 1], [1, 1], [1, 1], [1, 1], [1, 1], [1, 1], [1, 1], [1, 1], [1, 1], [1, 1], [1, 1], [1, 1], [1, 1], [2, 1], [4, 1], [6, 1], [7, 1], [8, 1], [25, 1], [34, 1], [1, 2], [1, 4], [1, 6], [1, 7], [1, 8], [34, 10], [34, 17], [1, 25], [1, 34], [10, 34], [17, 34]]\n",
      "(score)unplaced_tiles: 0.0; placed_tiles: 3993; height: 11; width: 13; tiles: [[1, 1], [1, 1], [1, 1], [1, 1], [1, 1], [1, 1], [2, 1], [3, 1], [3, 1], [3, 1], [3, 1], [3, 1], [3, 1], [3, 1], [4, 1], [6, 1], [6, 1], [7, 1], [1, 2], [5, 2], [7, 2], [1, 3], [1, 3], [1, 3], [1, 3], [1, 3], [1, 3], [1, 3], [6, 3], [1, 4], [4, 4], [4, 4], [9, 4], [2, 5], [1, 6], [1, 6], [3, 6], [1, 7], [2, 7], [4, 9]]\n",
      "(score)unplaced_tiles: 0.0; placed_tiles: 4403; height: 25; width: 16; tiles: [[1, 1], [1, 1], [1, 1], [1, 1], [1, 1], [1, 1], [1, 1], [1, 1], [1, 1], [1, 1], [1, 1], [1, 1], [2, 1], [2, 1], [2, 1], [3, 1], [6, 1], [7, 1], [9, 1], [1, 2], [1, 2], [1, 2], [3, 2], [4, 2], [5, 2], [8, 2], [1, 3], [2, 3], [2, 4], [11, 4], [2, 5], [11, 5], [1, 6], [1, 7], [2, 8], [1, 9], [4, 11], [5, 11], [16, 14], [14, 16]]\n",
      "(score)unplaced_tiles: 0.0; placed_tiles: 4810; height: 16; width: 35; tiles: [[1, 1], [1, 1], [1, 1], [1, 1], [1, 1], [1, 1], [1, 1], [1, 1], [2, 1], [2, 1], [2, 1], [2, 1], [3, 1], [3, 1], [4, 1], [4, 1], [35, 1], [35, 1], [1, 2], [1, 2], [1, 2], [1, 2], [31, 2], [31, 2], [31, 2], [34, 2], [1, 3], [1, 3], [1, 4], [1, 4], [13, 6], [22, 6], [6, 13], [6, 22], [2, 31], [2, 31], [2, 31], [2, 34], [1, 35], [1, 35]]\n",
      "(score)unplaced_tiles: 0.0; placed_tiles: 6344; height: 19; width: 39; tiles: [[1, 1], [1, 1], [1, 1], [1, 1], [1, 1], [1, 1], [1, 1], [1, 1], [1, 1], [1, 1], [1, 1], [1, 1], [1, 1], [1, 1], [1, 1], [1, 1], [1, 1], [1, 1], [1, 1], [1, 1], [2, 1], [3, 1], [3, 1], [24, 1], [39, 1], [39, 1], [1, 2], [24, 2], [1, 3], [1, 3], [9, 3], [39, 3], [3, 9], [39, 11], [1, 24], [2, 24], [1, 39], [1, 39], [3, 39], [11, 39]]\n",
      "(score)unplaced_tiles: 0.0; placed_tiles: 6966; height: 31; width: 15; tiles: [[1, 1], [1, 1], [2, 1], [2, 1], [3, 1], [3, 1], [3, 1], [6, 1], [7, 1], [13, 1], [16, 1], [1, 2], [1, 2], [4, 2], [4, 2], [4, 2], [12, 2], [1, 3], [1, 3], [1, 3], [6, 3], [2, 4], [2, 4], [2, 4], [4, 4], [4, 4], [9, 4], [12, 4], [1, 6], [3, 6], [13, 6], [1, 7], [4, 9], [15, 11], [2, 12], [4, 12], [1, 13], [6, 13], [11, 15], [1, 16]]\n",
      "(score)unplaced_tiles: 0.0; placed_tiles: 7054; height: 16; width: 13; tiles: [[1, 1], [1, 1], [1, 1], [1, 1], [1, 1], [1, 1], [1, 1], [1, 1], [2, 1], [2, 1], [2, 1], [3, 1], [3, 1], [4, 1], [6, 1], [12, 1], [12, 1], [13, 1], [1, 2], [1, 2], [1, 2], [2, 2], [2, 2], [1, 3], [1, 3], [6, 3], [13, 3], [1, 4], [6, 4], [6, 4], [1, 6], [3, 6], [4, 6], [4, 6], [6, 6], [6, 6], [1, 12], [1, 12], [1, 13], [3, 13]]\n",
      "(score)unplaced_tiles: 0.0; placed_tiles: 8600; height: 10; width: 28; tiles: [[1, 1], [1, 1], [1, 1], [1, 1], [1, 1], [1, 1], [1, 1], [1, 1], [1, 1], [1, 1], [1, 1], [1, 1], [1, 1], [1, 1], [1, 1], [1, 1], [2, 1], [2, 1], [2, 1], [18, 1], [18, 1], [22, 1], [1, 2], [1, 2], [1, 2], [6, 2], [18, 2], [18, 2], [6, 3], [22, 3], [10, 4], [2, 6], [3, 6], [4, 10], [1, 18], [1, 18], [2, 18], [2, 18], [1, 22], [3, 22]]\n",
      "(score)unplaced_tiles: 0.0; placed_tiles: 9202; height: 13; width: 13; tiles: [[1, 1], [1, 1], [1, 1], [1, 1], [1, 1], [1, 1], [1, 1], [1, 1], [2, 1], [2, 1], [2, 1], [2, 1], [2, 1], [2, 1], [6, 1], [6, 1], [1, 2], [1, 2], [1, 2], [1, 2], [1, 2], [1, 2], [2, 2], [2, 2], [2, 2], [2, 2], [4, 2], [9, 2], [9, 3], [2, 4], [4, 4], [4, 4], [7, 4], [9, 4], [1, 6], [1, 6], [4, 7], [2, 9], [3, 9], [4, 9]]\n",
      "(score)unplaced_tiles: 0.0; placed_tiles: 9209; height: 34; width: 10; tiles: [[1, 1], [1, 1], [1, 1], [1, 1], [1, 1], [1, 1], [1, 1], [1, 1], [1, 1], [1, 1], [1, 1], [1, 1], [2, 1], [2, 1], [4, 1], [4, 1], [4, 1], [5, 1], [5, 1], [7, 1], [1, 2], [1, 2], [9, 2], [9, 2], [1, 4], [1, 4], [1, 4], [1, 5], [1, 5], [9, 5], [10, 5], [1, 7], [10, 8], [2, 9], [2, 9], [5, 9], [10, 9], [5, 10], [8, 10], [9, 10]]\n",
      "(score)unplaced_tiles: 0.0; placed_tiles: 9422; height: 13; width: 15; tiles: [[1, 1], [1, 1], [1, 1], [1, 1], [1, 1], [1, 1], [1, 1], [1, 1], [1, 1], [1, 1], [1, 1], [1, 1], [2, 1], [2, 1], [3, 1], [3, 1], [4, 1], [5, 1], [6, 1], [1, 2], [1, 2], [2, 2], [2, 2], [2, 2], [2, 2], [1, 3], [1, 3], [4, 3], [5, 3], [6, 3], [9, 3], [1, 4], [3, 4], [1, 5], [3, 5], [1, 6], [3, 6], [14, 6], [3, 9], [6, 14]]\n",
      "20 13\n",
      "20\n",
      "Exceeption local variable 'is_over' referenced before assignment occurred\n",
      "10 24\n",
      "10\n",
      "Exceeption local variable 'is_over' referenced before assignment occurred\n",
      "39 38\n",
      "39\n",
      "Exceeption local variable 'is_over' referenced before assignment occurred\n",
      "16 10\n",
      "16\n",
      "Exceeption local variable 'is_over' referenced before assignment occurred\n",
      "15 12\n",
      "15\n",
      "Exceeption local variable 'is_over' referenced before assignment occurred\n",
      "13 10\n"
     ]
    },
    {
     "name": "stdout",
     "output_type": "stream",
     "text": [
      "Exceeption [Errno 2] No such file or directory: 'results/20.0_10_13__5000_tree.json' occurred\n",
      "21 13\n",
      "21\n",
      "Exceeption local variable 'is_over' referenced before assignment occurred\n",
      "10 10\n",
      "10\n",
      "Exceeption local variable 'is_over' referenced before assignment occurred\n",
      "38 34\n",
      "38\n",
      "Exceeption local variable 'is_over' referenced before assignment occurred\n",
      "35 29\n",
      "35\n",
      "Exceeption local variable 'is_over' referenced before assignment occurred\n",
      "11 13\n",
      "11\n",
      "Exceeption local variable 'is_over' referenced before assignment occurred\n",
      "25 16\n",
      "Exceeption [Errno 2] No such file or directory: 'results/20.0_16_25__5000_tree.json' occurred\n",
      "16 35\n",
      "16\n",
      "Exceeption local variable 'is_over' referenced before assignment occurred\n",
      "19 39\n",
      "19\n",
      "Exceeption local variable 'is_over' referenced before assignment occurred\n",
      "31 15\n",
      "31\n",
      "Exceeption local variable 'is_over' referenced before assignment occurred\n",
      "16 13\n",
      "16\n",
      "Exceeption local variable 'is_over' referenced before assignment occurred\n",
      "10 28\n",
      "10\n",
      "Exceeption local variable 'is_over' referenced before assignment occurred\n",
      "13 13\n",
      "13\n",
      "Exceeption local variable 'is_over' referenced before assignment occurred\n",
      "34 10\n",
      "34\n",
      "Exceeption local variable 'is_over' referenced before assignment occurred\n",
      "13 15\n",
      "13\n",
      "Exceeption local variable 'is_over' referenced before assignment occurred\n",
      "\n",
      "Hardest solved G max_depth problems:\n",
      "21 23\n",
      "21\n",
      "Exceeption local variable 'is_over' referenced before assignment occurred\n",
      "26 14\n",
      "26\n",
      "Exceeption local variable 'is_over' referenced before assignment occurred\n",
      "39 15\n",
      "39\n",
      "Exceeption local variable 'is_over' referenced before assignment occurred\n",
      "32 19\n",
      "32\n",
      "Exceeption local variable 'is_over' referenced before assignment occurred\n",
      "34 36\n",
      "34\n",
      "Exceeption local variable 'is_over' referenced before assignment occurred\n",
      "21 29\n",
      "21\n",
      "Exceeption local variable 'is_over' referenced before assignment occurred\n",
      "26 12\n",
      "Exceeption [Errno 2] No such file or directory: 'results/20.0_12_26__5000_tree.json' occurred\n",
      "11 31\n",
      "11\n",
      "Exceeption local variable 'is_over' referenced before assignment occurred\n",
      "36 40\n",
      "36\n",
      "Exceeption local variable 'is_over' referenced before assignment occurred\n",
      "28 22\n",
      "28\n",
      "Exceeption local variable 'is_over' referenced before assignment occurred\n",
      "10 26\n",
      "10\n",
      "Exceeption local variable 'is_over' referenced before assignment occurred\n",
      "34 38\n",
      "34\n",
      "Exceeption local variable 'is_over' referenced before assignment occurred\n",
      "18 39\n",
      "18\n",
      "Exceeption local variable 'is_over' referenced before assignment occurred\n",
      "33 13\n",
      "33\n",
      "Exceeption local variable 'is_over' referenced before assignment occurred\n",
      "26 22\n",
      "26\n",
      "Exceeption local variable 'is_over' referenced before assignment occurred\n",
      "13 25\n",
      "13\n",
      "Exceeption local variable 'is_over' referenced before assignment occurred\n",
      "27 37\n",
      "27\n",
      "Exceeption local variable 'is_over' referenced before assignment occurred\n",
      "29 19\n",
      "29\n",
      "Exceeption local variable 'is_over' referenced before assignment occurred\n",
      "38 13\n",
      "38\n",
      "Exceeption local variable 'is_over' referenced before assignment occurred\n",
      "36 29\n",
      "36\n",
      "Exceeption local variable 'is_over' referenced before assignment occurred\n",
      "35 20\n",
      "35\n",
      "Exceeption local variable 'is_over' referenced before assignment occurred\n",
      "34 21\n",
      "34\n",
      "Exceeption local variable 'is_over' referenced before assignment occurred\n",
      "35 13\n",
      "35\n",
      "Exceeption local variable 'is_over' referenced before assignment occurred\n",
      "39 11\n",
      "39\n",
      "Exceeption local variable 'is_over' referenced before assignment occurred\n",
      "36 15\n",
      "36\n",
      "Exceeption local variable 'is_over' referenced before assignment occurred\n",
      "11 27\n",
      "11\n",
      "Exceeption local variable 'is_over' referenced before assignment occurred\n",
      "11 38\n",
      "11\n",
      "Exceeption local variable 'is_over' referenced before assignment occurred\n",
      "26 18\n",
      "Exceeption [Errno 2] No such file or directory: 'results/20.0_18_26__5000_tree.json' occurred\n",
      "16 24\n",
      "16\n",
      "Exceeption local variable 'is_over' referenced before assignment occurred\n",
      "17 26\n",
      "17\n",
      "Exceeption local variable 'is_over' referenced before assignment occurred\n",
      "37 36\n",
      "37\n",
      "Exceeption local variable 'is_over' referenced before assignment occurred\n",
      "17 13\n",
      "17\n",
      "Exceeption local variable 'is_over' referenced before assignment occurred\n",
      "35 36\n",
      "35\n",
      "Exceeption local variable 'is_over' referenced before assignment occurred\n",
      "20 15\n",
      "20\n",
      "Exceeption local variable 'is_over' referenced before assignment occurred\n",
      "18 23\n",
      "18\n",
      "Exceeption local variable 'is_over' referenced before assignment occurred\n",
      "27 11\n",
      "27\n",
      "Exceeption local variable 'is_over' referenced before assignment occurred\n",
      "30 32\n",
      "Exceeption [Errno 2] No such file or directory: 'results/20.0_32_30__5000_tree.json' occurred\n",
      "16 28\n",
      "16\n",
      "Exceeption local variable 'is_over' referenced before assignment occurred\n",
      "31 38\n",
      "31\n",
      "Exceeption local variable 'is_over' referenced before assignment occurred\n",
      "27 24\n",
      "Exceeption [Errno 2] No such file or directory: 'results/20.0_24_27__5000_tree.json' occurred\n",
      "****************************************************************************************************\n",
      "Hardest solved G avg_depth problems:\n",
      "26 22\n",
      "26\n",
      "Exceeption local variable 'is_over' referenced before assignment occurred\n",
      "22 34\n",
      "22\n",
      "Exceeption local variable 'is_over' referenced before assignment occurred\n",
      "18 18\n",
      "Exceeption [Errno 2] No such file or directory: 'results/20.0_18_18__5000_tree.json' occurred\n",
      "21 33\n",
      "21\n",
      "Exceeption local variable 'is_over' referenced before assignment occurred\n",
      "28 28\n",
      "28\n",
      "Exceeption local variable 'is_over' referenced before assignment occurred\n",
      "24 22\n",
      "24\n",
      "Exceeption local variable 'is_over' referenced before assignment occurred\n",
      "30 23\n",
      "30\n",
      "Exceeption local variable 'is_over' referenced before assignment occurred\n",
      "26 14\n",
      "26\n",
      "Exceeption local variable 'is_over' referenced before assignment occurred\n",
      "14 31\n",
      "14\n",
      "Exceeption local variable 'is_over' referenced before assignment occurred\n",
      "37 36\n",
      "37\n",
      "Exceeption local variable 'is_over' referenced before assignment occurred\n",
      "11 34\n",
      "Exceeption [Errno 2] No such file or directory: 'results/20.0_34_11__5000_tree.json' occurred\n",
      "26 18\n",
      "Exceeption [Errno 2] No such file or directory: 'results/20.0_18_26__5000_tree.json' occurred\n",
      "26 28\n",
      "Exceeption [Errno 2] No such file or directory: 'results/20.0_28_26__5000_tree.json' occurred\n",
      "19 34\n",
      "Exceeption [Errno 2] No such file or directory: 'results/20.0_34_19__5000_tree.json' occurred\n",
      "15 35\n",
      "15\n",
      "Exceeption local variable 'is_over' referenced before assignment occurred\n",
      "39 15\n",
      "39\n",
      "Exceeption local variable 'is_over' referenced before assignment occurred\n",
      "14 19\n",
      "14\n",
      "Exceeption local variable 'is_over' referenced before assignment occurred\n",
      "25 34\n",
      "25\n",
      "Exceeption local variable 'is_over' referenced before assignment occurred\n",
      "31 18\n",
      "31\n",
      "Exceeption local variable 'is_over' referenced before assignment occurred\n",
      "16 25\n",
      "16\n",
      "Exceeption local variable 'is_over' referenced before assignment occurred\n",
      "12 33\n",
      "12\n",
      "Exceeption local variable 'is_over' referenced before assignment occurred\n",
      "17 34\n",
      "17\n",
      "Exceeption local variable 'is_over' referenced before assignment occurred\n",
      "19 25\n",
      "Exceeption [Errno 2] No such file or directory: 'results/20.0_25_19__5000_tree.json' occurred\n",
      "35 14\n",
      "35\n",
      "Exceeption local variable 'is_over' referenced before assignment occurred\n",
      "38 29\n",
      "38\n",
      "Exceeption local variable 'is_over' referenced before assignment occurred\n",
      "27 22\n",
      "27\n",
      "Exceeption local variable 'is_over' referenced before assignment occurred\n",
      "36 18\n",
      "36\n",
      "Exceeption local variable 'is_over' referenced before assignment occurred\n",
      "11 37\n",
      "11\n",
      "Exceeption local variable 'is_over' referenced before assignment occurred\n",
      "20 26\n",
      "Exceeption [Errno 2] No such file or directory: 'results/20.0_26_20__5000_tree.json' occurred\n",
      "36 14\n",
      "36\n",
      "Exceeption local variable 'is_over' referenced before assignment occurred\n",
      "34 22\n",
      "34\n",
      "Exceeption local variable 'is_over' referenced before assignment occurred\n",
      "22 21\n",
      "22\n",
      "Exceeption local variable 'is_over' referenced before assignment occurred\n",
      "14 33\n",
      "14\n",
      "Exceeption local variable 'is_over' referenced before assignment occurred\n",
      "35 29\n",
      "35\n",
      "Exceeption local variable 'is_over' referenced before assignment occurred\n",
      "35 34\n",
      "35\n",
      "Exceeption local variable 'is_over' referenced before assignment occurred\n",
      "14 28\n",
      "14\n",
      "Exceeption local variable 'is_over' referenced before assignment occurred\n",
      "32 17\n",
      "32\n",
      "Exceeption local variable 'is_over' referenced before assignment occurred\n",
      "15 29\n",
      "15\n",
      "Exceeption local variable 'is_over' referenced before assignment occurred\n",
      "33 14\n",
      "33\n",
      "Exceeption local variable 'is_over' referenced before assignment occurred\n",
      "35 25\n"
     ]
    },
    {
     "name": "stdout",
     "output_type": "stream",
     "text": [
      "35\n",
      "Exceeption local variable 'is_over' referenced before assignment occurred\n",
      "\n",
      "Interestingly the easiest avg_depth and max_depth problems have same number of placed_tiles (for upto 326 easiest problems) which means the strategies do not make a difference during the search.\n"
     ]
    }
   ],
   "source": [
    "'''\n",
    "Finding the hardest problems for 5000 simulations\n",
    "'''\n",
    "def print_scores(scores):\n",
    "    for p in scores:\n",
    "        print(f'(score)unplaced_tiles: {p.score}; placed_tiles: {p.n_tiles_placed}; height: {p.rows}; width: {p.cols}; tiles: {p.tiles}')\n",
    "    \n",
    "common_args = {'problem_generator': 'guillotine', 'improved_sel': True, 'n_simulations': 5000}\n",
    "\n",
    "g_max_depth_instances = Result.objects.filter(problem_id__in=best_problem_ids, strategy='max_depth', score__isnull=False, **common_args)\n",
    "g_avg_depth_instances = Result.objects.filter(problem_id__in=best_problem_ids, strategy='avg_depth', score__isnull=False, **common_args)\n",
    "\n",
    "max_depth_worst_score = g_max_depth_instances.order_by('score').last().score\n",
    "avg_depth_worst_score = g_avg_depth_instances.order_by('score').last().score\n",
    "\n",
    "g_max_depth_instances = g_max_depth_instances.filter(score=max_depth_worst_score).order_by('-n_tiles_placed')\n",
    "print('Hardest G max_depth problems:')\n",
    "print_scores(g_max_depth_instances)\n",
    "print()\n",
    "g_avg_depth_instances = g_avg_depth_instances.filter(score=avg_depth_worst_score).order_by('-n_tiles_placed')\n",
    "print('Hardest G avg_depth problems:')\n",
    "print_scores(g_avg_depth_instances)\n",
    "\n",
    "print()\n",
    "print('Easiest 3 G avg_depth problems:')\n",
    "g_avg_depth_instances = Result.objects.filter(problem_id__in=best_problem_ids, strategy='avg_depth', solution_found=True, **common_args).order_by('n_tiles_placed')\n",
    "print_scores(g_avg_depth_instances[:3])\n",
    "\n",
    "print()\n",
    "print('Easiest 3 G max_depth problems:')\n",
    "g_max_depth_instances = Result.objects.filter(problem_id__in=best_problem_ids, strategy='max_depth', solution_found=True, **common_args).order_by('n_tiles_placed')\n",
    "print_scores(g_max_depth_instances[:20])\n",
    "visualize_qs(g_avg_depth_instances[:20])\n",
    "\n",
    "print()\n",
    "print('Hardest solved G max_depth problems:')\n",
    "g_max_depth_instances = Result.objects.filter(problem_id__in=best_problem_ids, strategy='max_depth', solution_found=True, score=0, **common_args).order_by('-n_tiles_placed')\n",
    "visualize_qs(g_max_depth_instances[:40])\n",
    "\n",
    "print('*' * 100)\n",
    "print('Hardest solved G avg_depth problems:')\n",
    "g_max_depth_instances = Result.objects.filter(problem_id__in=best_problem_ids, strategy='avg_depth', solution_found=True, score=0, **common_args).order_by('-n_tiles_placed')\n",
    "visualize_qs(g_max_depth_instances[:40])\n",
    "\n",
    "\n",
    "print()\n",
    "print('Interestingly the easiest avg_depth and max_depth problems have same number of placed_tiles (for upto 326 easiest problems) which means the strategies do not make a difference during the search.')"
   ]
  },
  {
   "cell_type": "code",
   "execution_count": 21,
   "metadata": {},
   "outputs": [
    {
     "name": "stdout",
     "output_type": "stream",
     "text": [
      "Hardest B max_depth problems:\n",
      "(score)unplaced_tiles: 4.0; placed_tiles: 9186851; height: 44; width: 59; tiles: [[21, 1], [22, 1], [3, 2], [10, 2], [19, 2], [22, 2], [2, 3], [7, 4], [14, 4], [18, 4], [8, 5], [14, 6], [4, 7], [21, 7], [5, 8], [14, 9], [2, 10], [15, 12], [19, 12], [19, 13], [4, 14], [6, 14], [9, 14], [18, 14], [26, 14], [12, 15], [19, 15], [21, 16], [4, 18], [14, 18], [2, 19], [12, 19], [13, 19], [15, 19], [1, 21], [7, 21], [16, 21], [1, 22], [2, 22], [14, 26]]\n",
      "(score)unplaced_tiles: 4.0; placed_tiles: 8109917; height: 51; width: 78; tiles: [[13, 1], [22, 2], [9, 3], [12, 3], [15, 4], [11, 5], [17, 5], [23, 5], [17, 6], [13, 7], [22, 7], [3, 9], [11, 10], [5, 11], [10, 11], [3, 12], [1, 13], [7, 13], [15, 13], [4, 15], [13, 15], [20, 15], [5, 17], [6, 17], [23, 17], [21, 18], [22, 18], [23, 19], [15, 20], [18, 21], [23, 21], [2, 22], [7, 22], [18, 22], [23, 22], [5, 23], [17, 23], [19, 23], [21, 23], [22, 23]]\n",
      "(score)unplaced_tiles: 4.0; placed_tiles: 7856432; height: 47; width: 68; tiles: [[17, 1], [7, 2], [11, 2], [6, 3], [23, 3], [18, 5], [20, 5], [3, 6], [20, 6], [2, 7], [15, 7], [19, 7], [10, 9], [9, 10], [21, 10], [2, 11], [16, 11], [17, 12], [20, 13], [16, 14], [23, 14], [7, 15], [19, 15], [11, 16], [14, 16], [1, 17], [12, 17], [21, 17], [5, 18], [7, 19], [15, 19], [20, 19], [5, 20], [6, 20], [13, 20], [19, 20], [10, 21], [17, 21], [3, 23], [14, 23]]\n",
      "(score)unplaced_tiles: 4.0; placed_tiles: 7624461; height: 27; width: 35; tiles: [[2, 1], [12, 1], [1, 2], [3, 2], [5, 2], [6, 2], [7, 2], [12, 2], [2, 3], [8, 4], [2, 5], [8, 5], [10, 5], [2, 6], [7, 6], [8, 6], [11, 6], [2, 7], [6, 7], [8, 7], [10, 7], [11, 7], [12, 7], [4, 8], [5, 8], [6, 8], [7, 8], [9, 8], [8, 9], [12, 9], [5, 10], [7, 10], [12, 10], [6, 11], [7, 11], [1, 12], [2, 12], [7, 12], [9, 12], [10, 12]]\n",
      "(score)unplaced_tiles: 4.0; placed_tiles: 5256893; height: 41; width: 41; tiles: [[16, 1], [5, 2], [10, 3], [12, 3], [9, 4], [10, 4], [12, 4], [2, 5], [14, 5], [11, 6], [12, 7], [14, 7], [10, 8], [13, 8], [16, 8], [4, 9], [14, 9], [15, 9], [3, 10], [4, 10], [8, 10], [12, 10], [6, 11], [12, 11], [14, 11], [3, 12], [4, 12], [7, 12], [10, 12], [11, 12], [14, 12], [8, 13], [5, 14], [7, 14], [9, 14], [11, 14], [12, 14], [9, 15], [1, 16], [8, 16]]\n",
      "(score)unplaced_tiles: 4.0; placed_tiles: 4580816; height: 45; width: 45; tiles: [[2, 1], [17, 1], [1, 2], [9, 2], [8, 3], [9, 5], [10, 5], [11, 5], [16, 5], [7, 6], [16, 6], [6, 7], [15, 7], [19, 7], [3, 8], [10, 8], [19, 8], [2, 9], [5, 9], [5, 10], [8, 10], [11, 10], [5, 11], [10, 11], [13, 12], [14, 12], [16, 12], [19, 12], [12, 13], [12, 14], [7, 15], [5, 16], [6, 16], [12, 16], [17, 16], [1, 17], [16, 17], [7, 19], [8, 19], [12, 19]]\n",
      "\n",
      "Hardest B avg_depth problems:\n",
      "(score)unplaced_tiles: 9.0; placed_tiles: 5914712; height: 52; width: 52; tiles: [[6, 2], [7, 2], [8, 2], [10, 2], [20, 2], [6, 4], [7, 4], [9, 4], [2, 6], [4, 6], [2, 7], [4, 7], [2, 8], [20, 8], [4, 9], [13, 9], [2, 10], [13, 10], [15, 10], [21, 10], [13, 12], [17, 12], [20, 12], [9, 13], [10, 13], [12, 13], [18, 13], [21, 13], [10, 15], [20, 15], [12, 17], [20, 17], [13, 18], [2, 20], [8, 20], [12, 20], [15, 20], [17, 20], [10, 21], [13, 21]]\n",
      "\n",
      "Easiest 3 B avg_depth problems:\n",
      "(score)unplaced_tiles: 0.0; placed_tiles: 463356; height: 16; width: 21; tiles: [[2, 1], [3, 1], [4, 1], [5, 1], [6, 1], [7, 1], [8, 1], [1, 2], [3, 2], [4, 2], [6, 2], [1, 3], [2, 3], [4, 3], [5, 3], [6, 3], [7, 3], [1, 4], [2, 4], [3, 4], [5, 4], [6, 4], [1, 5], [3, 5], [4, 5], [7, 5], [8, 5], [1, 6], [2, 6], [3, 6], [4, 6], [7, 6], [8, 6], [1, 7], [3, 7], [5, 7], [6, 7], [1, 8], [5, 8], [6, 8]]\n",
      "(score)unplaced_tiles: 0.0; placed_tiles: 661002; height: 15; width: 28; tiles: [[2, 1], [4, 1], [5, 1], [7, 1], [8, 1], [1, 2], [3, 2], [5, 2], [7, 2], [8, 2], [2, 3], [4, 3], [6, 3], [7, 3], [8, 3], [1, 4], [3, 4], [5, 4], [8, 4], [1, 5], [2, 5], [4, 5], [7, 5], [8, 5], [3, 6], [7, 6], [8, 6], [1, 7], [2, 7], [3, 7], [5, 7], [6, 7], [8, 7], [1, 8], [2, 8], [3, 8], [4, 8], [5, 8], [6, 8], [7, 8]]\n",
      "(score)unplaced_tiles: 0.0; placed_tiles: 873126; height: 12; width: 29; tiles: [[2, 1], [3, 1], [4, 1], [5, 1], [6, 1], [1, 2], [4, 2], [5, 2], [6, 2], [7, 2], [8, 2], [1, 3], [5, 3], [6, 3], [8, 3], [1, 4], [2, 4], [5, 4], [6, 4], [7, 4], [8, 4], [1, 5], [2, 5], [3, 5], [4, 5], [6, 5], [7, 5], [1, 6], [2, 6], [3, 6], [4, 6], [5, 6], [7, 6], [2, 7], [4, 7], [5, 7], [6, 7], [2, 8], [3, 8], [4, 8]]\n",
      "16 21\n",
      "16\n",
      "Exceeption local variable 'is_over' referenced before assignment occurred\n",
      "15 28\n",
      "Exceeption [Errno 2] No such file or directory: 'results/20.0_28_15__5000_tree.json' occurred\n",
      "12 29\n",
      "Exceeption [Errno 2] No such file or directory: 'results/20.0_29_12__5000_tree.json' occurred\n",
      "18 22\n",
      "18\n",
      "Exceeption local variable 'is_over' referenced before assignment occurred\n",
      "19 22\n",
      "19\n",
      "Exceeption local variable 'is_over' referenced before assignment occurred\n",
      "13 28\n",
      "13\n",
      "Exceeption local variable 'is_over' referenced before assignment occurred\n",
      "16 25\n",
      "16\n",
      "Exceeption local variable 'is_over' referenced before assignment occurred\n",
      "17 20\n",
      "Exceeption [Errno 2] No such file or directory: 'results/20.0_20_17__5000_tree.json' occurred\n",
      "21 21\n",
      "21\n",
      "Exceeption local variable 'is_over' referenced before assignment occurred\n",
      "17 23\n",
      "17\n",
      "Exceeption local variable 'is_over' referenced before assignment occurred\n",
      "\n",
      "Easiest 3 B max_depth problems:\n",
      "(score)unplaced_tiles: 0.0; placed_tiles: 463356; height: 16; width: 21; tiles: [[2, 1], [3, 1], [4, 1], [5, 1], [6, 1], [7, 1], [8, 1], [1, 2], [3, 2], [4, 2], [6, 2], [1, 3], [2, 3], [4, 3], [5, 3], [6, 3], [7, 3], [1, 4], [2, 4], [3, 4], [5, 4], [6, 4], [1, 5], [3, 5], [4, 5], [7, 5], [8, 5], [1, 6], [2, 6], [3, 6], [4, 6], [7, 6], [8, 6], [1, 7], [3, 7], [5, 7], [6, 7], [1, 8], [5, 8], [6, 8]]\n",
      "(score)unplaced_tiles: 0.0; placed_tiles: 463356; height: 16; width: 21; tiles: [[2, 1], [3, 1], [4, 1], [5, 1], [6, 1], [7, 1], [8, 1], [1, 2], [3, 2], [4, 2], [6, 2], [1, 3], [2, 3], [4, 3], [5, 3], [6, 3], [7, 3], [1, 4], [2, 4], [3, 4], [5, 4], [6, 4], [1, 5], [3, 5], [4, 5], [7, 5], [8, 5], [1, 6], [2, 6], [3, 6], [4, 6], [7, 6], [8, 6], [1, 7], [3, 7], [5, 7], [6, 7], [1, 8], [5, 8], [6, 8]]\n",
      "(score)unplaced_tiles: 0.0; placed_tiles: 463356; height: 16; width: 21; tiles: [[2, 1], [3, 1], [4, 1], [5, 1], [6, 1], [7, 1], [8, 1], [1, 2], [3, 2], [4, 2], [6, 2], [1, 3], [2, 3], [4, 3], [5, 3], [6, 3], [7, 3], [1, 4], [2, 4], [3, 4], [5, 4], [6, 4], [1, 5], [3, 5], [4, 5], [7, 5], [8, 5], [1, 6], [2, 6], [3, 6], [4, 6], [7, 6], [8, 6], [1, 7], [3, 7], [5, 7], [6, 7], [1, 8], [5, 8], [6, 8]]\n",
      "16 21\n",
      "16\n",
      "Exceeption local variable 'is_over' referenced before assignment occurred\n",
      "16 21\n",
      "16\n",
      "Exceeption local variable 'is_over' referenced before assignment occurred\n",
      "16 21\n",
      "16\n",
      "Exceeption local variable 'is_over' referenced before assignment occurred\n",
      "16 21\n",
      "16\n",
      "Exceeption local variable 'is_over' referenced before assignment occurred\n",
      "15 28\n",
      "Exceeption [Errno 2] No such file or directory: 'results/20.0_28_15__5000_tree.json' occurred\n",
      "15 28\n",
      "Exceeption [Errno 2] No such file or directory: 'results/20.0_28_15__5000_tree.json' occurred\n",
      "15 28\n",
      "Exceeption [Errno 2] No such file or directory: 'results/20.0_28_15__5000_tree.json' occurred\n",
      "12 29\n",
      "Exceeption [Errno 2] No such file or directory: 'results/20.0_29_12__5000_tree.json' occurred\n",
      "12 29\n",
      "Exceeption [Errno 2] No such file or directory: 'results/20.0_29_12__5000_tree.json' occurred\n",
      "12 29\n",
      "Exceeption [Errno 2] No such file or directory: 'results/20.0_29_12__5000_tree.json' occurred\n"
     ]
    }
   ],
   "source": [
    "common_args = {'problem_generator': 'florian', 'improved_sel': True, 'n_simulations': 5000, 'their_id__in':best_their_ids}\n",
    "\n",
    "g_max_depth_instances = Result.objects.filter(strategy='max_depth', score__isnull=False, **common_args)\n",
    "g_avg_depth_instances = Result.objects.filter(strategy='avg_depth', score__isnull=False, **common_args)\n",
    "\n",
    "max_depth_worst_score = g_max_depth_instances.order_by('score').last().score\n",
    "avg_depth_worst_score = g_avg_depth_instances.order_by('score').last().score\n",
    "\n",
    "g_max_depth_instances = g_max_depth_instances.filter(score=max_depth_worst_score).order_by('-n_tiles_placed')\n",
    "print('Hardest B max_depth problems:')\n",
    "print_scores(g_max_depth_instances)\n",
    "print()\n",
    "g_avg_depth_instances = g_avg_depth_instances.filter(score=avg_depth_worst_score).order_by('-n_tiles_placed')\n",
    "print('Hardest B avg_depth problems:')\n",
    "print_scores(g_avg_depth_instances)\n",
    "\n",
    "print()\n",
    "print('Easiest 3 B avg_depth problems:')\n",
    "g_avg_depth_instances = Result.objects.filter(strategy='avg_depth', solution_found=True, **common_args).order_by('n_tiles_placed')\n",
    "print_scores(g_avg_depth_instances[:3])\n",
    "visualize_qs(g_avg_depth_instances[:10])\n",
    "\n",
    "print()\n",
    "print('Easiest 3 B max_depth problems:')\n",
    "g_max_depth_instances = Result.objects.filter(strategy='max_depth', solution_found=True, **common_args).order_by('n_tiles_placed')\n",
    "print_scores(g_max_depth_instances[:3])\n",
    "visualize_qs(g_max_depth_instances[:10])"
   ]
  },
  {
   "cell_type": "code",
   "execution_count": 22,
   "metadata": {},
   "outputs": [
    {
     "name": "stdout",
     "output_type": "stream",
     "text": [
      "**************************************************\n",
      "SIMULATIONS: 100\n",
      "**************************************************\n",
      "Guillotine:\n",
      "In total max_depth_wins: 143, avg_depth_wins: 255, and 602 ties.\n",
      "p value: 2.1454018128589555e-08\n",
      "Non-guillotine:\n",
      "In total max_depth_wins: 461, avg_depth_wins: 147, and 392 ties.\n",
      "p value: 1.1721393347580135e-38\n",
      "**************************************************\n",
      "SIMULATIONS: 200\n",
      "**************************************************\n",
      "Guillotine:\n",
      "In total max_depth_wins: 158, avg_depth_wins: 226, and 616 ties.\n",
      "p value: 0.0006100659426685002\n",
      "Non-guillotine:\n",
      "In total max_depth_wins: 519, avg_depth_wins: 127, and 354 ties.\n",
      "p value: 4.058279577695039e-57\n",
      "**************************************************\n",
      "SIMULATIONS: 500\n",
      "**************************************************\n",
      "Guillotine:\n",
      "In total max_depth_wins: 164, avg_depth_wins: 197, and 639 ties.\n",
      "p value: 0.09200296366604292\n",
      "Non-guillotine:\n",
      "In total max_depth_wins: 574, avg_depth_wins: 103, and 323 ties.\n",
      "p value: 3.890910919293172e-80\n",
      "**************************************************\n",
      "SIMULATIONS: 1000\n",
      "**************************************************\n",
      "Guillotine:\n",
      "In total max_depth_wins: 168, avg_depth_wins: 164, and 668 ties.\n",
      "p value: 0.8692541040002651\n",
      "Non-guillotine:\n",
      "In total max_depth_wins: 609, avg_depth_wins: 88, and 303 ties.\n",
      "p value: 9.886002763057702e-97\n",
      "**************************************************\n",
      "SIMULATIONS: 2000\n",
      "**************************************************\n",
      "Guillotine:\n",
      "In total max_depth_wins: 161, avg_depth_wins: 145, and 694 ties.\n",
      "p value: 0.39120726374636033\n",
      "Non-guillotine:\n",
      "In total max_depth_wins: 651, avg_depth_wins: 83, and 266 ties.\n",
      "p value: 3.6915844808979945e-110\n",
      "**************************************************\n",
      "SIMULATIONS: 5000\n",
      "**************************************************\n",
      "Guillotine:\n",
      "In total max_depth_wins: 146, avg_depth_wins: 121, and 733 ties.\n",
      "p value: 0.141749750299983\n",
      "Non-guillotine:\n",
      "In total max_depth_wins: 678, avg_depth_wins: 78, and 244 ties.\n",
      "p value: 2.875079941827991e-120\n"
     ]
    }
   ],
   "source": [
    "common_args = {'problem_generator': 'florian', 'improved_sel': True, 'solution_tiles_order__isnull': True}\n",
    "\n",
    "N_SIM = [100, 200, 500, 1000, 2000, 5000]\n",
    "\n",
    "# find same problem instances\n",
    "for n_sim in N_SIM:\n",
    "    print('*' * 50)\n",
    "    print(f'SIMULATIONS: {n_sim}')\n",
    "    print('*' * 50)\n",
    "    common_args['problem_generator'] = 'guillotine'\n",
    "    common_args['n_simulations'] = n_sim\n",
    "    common_args['score__isnull'] = False\n",
    "\n",
    "    g_max_depth_instances = Result.objects.filter(problem_id__in=best_problem_ids, strategy='max_depth', **common_args)\n",
    "    g_avg_depth_instances = Result.objects.filter(problem_id__in=best_problem_ids, strategy='avg_depth', **common_args)\n",
    "\n",
    "    print('Guillotine:')\n",
    "    calc_p_value(Result.objects.filter(problem_id__in=best_problem_ids, **common_args), g_max_depth_instances, g_avg_depth_instances)\n",
    "\n",
    "    common_args['problem_generator'] = 'florian'\n",
    "    ng_avg_depth_instances = Result.objects.filter(strategy='avg_depth', their_id__in=best_their_ids,  **common_args)\n",
    "    ng_max_depth_instances = Result.objects.filter(strategy='max_depth', their_id__in=best_their_ids, **common_args)\n",
    "    ng_avg_depth_scores = ng_avg_depth_instances.values('score')\n",
    "    ng_max_depth_scores = ng_max_depth_instances.values('score')\n",
    "\n",
    "    print('Non-guillotine:')\n",
    "    calc_p_value(Result.objects.filter(**common_args), ng_max_depth_instances, ng_avg_depth_instances, is_guillotine=False)\n",
    "\n",
    "    # scores = results.values('score', 'strategy')\n",
    "    # print(np.average(np.array(results.filter(score__isnull=False, strategy='avg_depth', **common_args).values_list('rows', flat=True))))\n",
    "    # print(np.average(np.array(results.filter(score__isnull=False, strategy='max_depth', **common_args).values_list('rows', flat=True))))"
   ]
  },
  {
   "cell_type": "code",
   "execution_count": 23,
   "metadata": {},
   "outputs": [],
   "source": [
    "def score_to_int(df):\n",
    "    df['score'] = df['score'].astype('int')\n",
    "    return df"
   ]
  },
  {
   "cell_type": "code",
   "execution_count": 24,
   "metadata": {},
   "outputs": [
    {
     "ename": "AttributeError",
     "evalue": "'DataFrame' object has no attribute 'DataFrame'",
     "output_type": "error",
     "traceback": [
      "\u001b[0;31m---------------------------------------------------------------------------\u001b[0m",
      "\u001b[0;31mAttributeError\u001b[0m                            Traceback (most recent call last)",
      "\u001b[0;32m<ipython-input-24-c38f16dcb344>\u001b[0m in \u001b[0;36m<module>\u001b[0;34m\u001b[0m\n\u001b[1;32m     22\u001b[0m             \u001b[0mmax_depth_scores\u001b[0m \u001b[0;34m=\u001b[0m \u001b[0mResult\u001b[0m\u001b[0;34m.\u001b[0m\u001b[0mobjects\u001b[0m\u001b[0;34m.\u001b[0m\u001b[0mfilter\u001b[0m\u001b[0;34m(\u001b[0m\u001b[0mtheir_id__in\u001b[0m\u001b[0;34m=\u001b[0m\u001b[0mbest_their_ids\u001b[0m\u001b[0;34m,\u001b[0m \u001b[0mstrategy\u001b[0m\u001b[0;34m=\u001b[0m\u001b[0;34m'max_depth'\u001b[0m\u001b[0;34m,\u001b[0m \u001b[0;34m**\u001b[0m\u001b[0mcommon_args\u001b[0m\u001b[0;34m)\u001b[0m\u001b[0;34m.\u001b[0m\u001b[0mvalues\u001b[0m\u001b[0;34m(\u001b[0m\u001b[0;34m'score'\u001b[0m\u001b[0;34m)\u001b[0m\u001b[0;34m\u001b[0m\u001b[0;34m\u001b[0m\u001b[0m\n\u001b[1;32m     23\u001b[0m \u001b[0;34m\u001b[0m\u001b[0m\n\u001b[0;32m---> 24\u001b[0;31m         sns.distplot(score_to_int(pd.DataFrame.from_records(avg_depth_scores)),\n\u001b[0m\u001b[1;32m     25\u001b[0m                      kde=False, color='#fc8d59', label='avg_height', bins=bins, ax=axes[j][i])\n\u001b[1;32m     26\u001b[0m         sns.distplot(score_to_int(pd.DataFrame.from_records(max_depth_scores)),\n",
      "\u001b[0;32m~/.virtualenvs/vis-api/lib/python3.7/site-packages/pandas/core/generic.py\u001b[0m in \u001b[0;36m__getattr__\u001b[0;34m(self, name)\u001b[0m\n\u001b[1;32m   5177\u001b[0m             \u001b[0;32mif\u001b[0m \u001b[0mself\u001b[0m\u001b[0;34m.\u001b[0m\u001b[0m_info_axis\u001b[0m\u001b[0;34m.\u001b[0m\u001b[0m_can_hold_identifiers_and_holds_name\u001b[0m\u001b[0;34m(\u001b[0m\u001b[0mname\u001b[0m\u001b[0;34m)\u001b[0m\u001b[0;34m:\u001b[0m\u001b[0;34m\u001b[0m\u001b[0;34m\u001b[0m\u001b[0m\n\u001b[1;32m   5178\u001b[0m                 \u001b[0;32mreturn\u001b[0m \u001b[0mself\u001b[0m\u001b[0;34m[\u001b[0m\u001b[0mname\u001b[0m\u001b[0;34m]\u001b[0m\u001b[0;34m\u001b[0m\u001b[0;34m\u001b[0m\u001b[0m\n\u001b[0;32m-> 5179\u001b[0;31m             \u001b[0;32mreturn\u001b[0m \u001b[0mobject\u001b[0m\u001b[0;34m.\u001b[0m\u001b[0m__getattribute__\u001b[0m\u001b[0;34m(\u001b[0m\u001b[0mself\u001b[0m\u001b[0;34m,\u001b[0m \u001b[0mname\u001b[0m\u001b[0;34m)\u001b[0m\u001b[0;34m\u001b[0m\u001b[0;34m\u001b[0m\u001b[0m\n\u001b[0m\u001b[1;32m   5180\u001b[0m \u001b[0;34m\u001b[0m\u001b[0m\n\u001b[1;32m   5181\u001b[0m     \u001b[0;32mdef\u001b[0m \u001b[0m__setattr__\u001b[0m\u001b[0;34m(\u001b[0m\u001b[0mself\u001b[0m\u001b[0;34m,\u001b[0m \u001b[0mname\u001b[0m\u001b[0;34m,\u001b[0m \u001b[0mvalue\u001b[0m\u001b[0;34m)\u001b[0m\u001b[0;34m:\u001b[0m\u001b[0;34m\u001b[0m\u001b[0;34m\u001b[0m\u001b[0m\n",
      "\u001b[0;31mAttributeError\u001b[0m: 'DataFrame' object has no attribute 'DataFrame'"
     ]
    },
    {
     "data": {
      "image/png": "[encoded data removed]",
      "text/plain": [
       "<Figure size 792x1080 with 12 Axes>"
      ]
     },
     "metadata": {
      "needs_background": "light"
     },
     "output_type": "display_data"
    }
   ],
   "source": [
    "# scores_df\n",
    "N_SIM = [100, 200, 500, 1000, 2000, 5000]\n",
    "plt.rcParams.update({'font.size': 12})\n",
    "f, axes = plt.subplots(len(N_SIM), 2, figsize=(11, 15))\n",
    "for j, n_sim in enumerate(N_SIM):\n",
    "    common_args = {\n",
    "        'score__isnull': False, 'improved_sel': True,\n",
    "        'n_simulations': n_sim\n",
    "    }\n",
    "    bins = np.arange(0, 9)\n",
    "    rows = len(N_SIM) // 2\n",
    "    for i in range(2):\n",
    "        if i == 0:\n",
    "            common_args['problem_generator'] = 'guillotine'\n",
    "            title = f'G instances (N_sim={n_sim})'\n",
    "            avg_depth_scores = Result.objects.filter(problem_id__in=best_problem_ids, strategy='avg_depth', **common_args).values('score')\n",
    "            max_depth_scores = Result.objects.filter(problem_id__in=best_problem_ids, strategy='max_depth', **common_args).values('score')\n",
    "        else:\n",
    "            title = f'B instances (N_sim={n_sim})'\n",
    "            common_args['problem_generator'] = 'florian'\n",
    "            avg_depth_scores = Result.objects.filter(their_id__in=best_their_ids, strategy='avg_depth', **common_args).values('score')\n",
    "            max_depth_scores = Result.objects.filter(their_id__in=best_their_ids, strategy='max_depth', **common_args).values('score')\n",
    "\n",
    "        sns.distplot(score_to_int(pd.DataFrame.from_records(avg_depth_scores)),\n",
    "                     kde=False, color='#fc8d59', label='avg_height', bins=bins, ax=axes[j][i])\n",
    "        sns.distplot(score_to_int(pd.DataFrame.from_records(max_depth_scores)),\n",
    "                          kde=False, color='#91bfdb', label='max_height', bins=bins, ax=axes[j][i])\n",
    "        axes[j][i].xaxis.set_major_locator(ticker.MultipleLocator(1))\n",
    "        axes[j][i].xaxis.set_major_formatter(ticker.ScalarFormatter())\n",
    "        # plt.xlim(left=i)\n",
    "        axes[j][i].set_ylabel('Number of solutions')\n",
    "        axes[j][i].set_xlabel('Score (tiles unplaced)')\n",
    "        axes[j][i].set_title(title)\n",
    "        axes[j][i].legend()\n",
    "        \n",
    "f.tight_layout()\n",
    "# plt.rcParams[\"figure.figsize\"] = (8,5)\n",
    "plt.show()"
   ]
  },
  {
   "cell_type": "code",
   "execution_count": 25,
   "metadata": {},
   "outputs": [
    {
     "ename": "AttributeError",
     "evalue": "'DataFrame' object has no attribute 'DataFrame'",
     "output_type": "error",
     "traceback": [
      "\u001b[0;31m---------------------------------------------------------------------------\u001b[0m",
      "\u001b[0;31mAttributeError\u001b[0m                            Traceback (most recent call last)",
      "\u001b[0;32m<ipython-input-25-25ea60812aa8>\u001b[0m in \u001b[0;36m<module>\u001b[0;34m\u001b[0m\n\u001b[1;32m     36\u001b[0m                 \u001b[0mmax_depth_scores\u001b[0m \u001b[0;34m=\u001b[0m \u001b[0mResult\u001b[0m\u001b[0;34m.\u001b[0m\u001b[0mobjects\u001b[0m\u001b[0;34m.\u001b[0m\u001b[0mfilter\u001b[0m\u001b[0;34m(\u001b[0m\u001b[0mtheir_id__in\u001b[0m\u001b[0;34m=\u001b[0m\u001b[0mbest_their_ids\u001b[0m\u001b[0;34m,\u001b[0m \u001b[0mstrategy\u001b[0m\u001b[0;34m=\u001b[0m\u001b[0;34m'max_depth'\u001b[0m\u001b[0;34m,\u001b[0m \u001b[0;34m**\u001b[0m\u001b[0mcommon_args\u001b[0m\u001b[0;34m)\u001b[0m\u001b[0;34m.\u001b[0m\u001b[0mvalues\u001b[0m\u001b[0;34m(\u001b[0m\u001b[0;34m'score'\u001b[0m\u001b[0;34m)\u001b[0m\u001b[0;34m\u001b[0m\u001b[0;34m\u001b[0m\u001b[0m\n\u001b[1;32m     37\u001b[0m \u001b[0;34m\u001b[0m\u001b[0m\n\u001b[0;32m---> 38\u001b[0;31m             \u001b[0mavg_depth_scores_df\u001b[0m \u001b[0;34m=\u001b[0m \u001b[0mpd\u001b[0m\u001b[0;34m.\u001b[0m\u001b[0mDataFrame\u001b[0m\u001b[0;34m.\u001b[0m\u001b[0mfrom_records\u001b[0m\u001b[0;34m(\u001b[0m\u001b[0mavg_depth_scores\u001b[0m\u001b[0;34m)\u001b[0m\u001b[0;34m\u001b[0m\u001b[0;34m\u001b[0m\u001b[0m\n\u001b[0m\u001b[1;32m     39\u001b[0m             sns.distplot(score_to_int(avg_depth_scores_df),\n\u001b[1;32m     40\u001b[0m                          \u001b[0mkde\u001b[0m\u001b[0;34m=\u001b[0m\u001b[0;32mFalse\u001b[0m\u001b[0;34m,\u001b[0m \u001b[0mlabel\u001b[0m\u001b[0;34m=\u001b[0m\u001b[0;34m'avg_depth'\u001b[0m\u001b[0;34m,\u001b[0m\u001b[0;34m\u001b[0m\u001b[0;34m\u001b[0m\u001b[0m\n",
      "\u001b[0;32m~/.virtualenvs/vis-api/lib/python3.7/site-packages/pandas/core/generic.py\u001b[0m in \u001b[0;36m__getattr__\u001b[0;34m(self, name)\u001b[0m\n\u001b[1;32m   5177\u001b[0m             \u001b[0;32mif\u001b[0m \u001b[0mself\u001b[0m\u001b[0;34m.\u001b[0m\u001b[0m_info_axis\u001b[0m\u001b[0;34m.\u001b[0m\u001b[0m_can_hold_identifiers_and_holds_name\u001b[0m\u001b[0;34m(\u001b[0m\u001b[0mname\u001b[0m\u001b[0;34m)\u001b[0m\u001b[0;34m:\u001b[0m\u001b[0;34m\u001b[0m\u001b[0;34m\u001b[0m\u001b[0m\n\u001b[1;32m   5178\u001b[0m                 \u001b[0;32mreturn\u001b[0m \u001b[0mself\u001b[0m\u001b[0;34m[\u001b[0m\u001b[0mname\u001b[0m\u001b[0;34m]\u001b[0m\u001b[0;34m\u001b[0m\u001b[0;34m\u001b[0m\u001b[0m\n\u001b[0;32m-> 5179\u001b[0;31m             \u001b[0;32mreturn\u001b[0m \u001b[0mobject\u001b[0m\u001b[0;34m.\u001b[0m\u001b[0m__getattribute__\u001b[0m\u001b[0;34m(\u001b[0m\u001b[0mself\u001b[0m\u001b[0;34m,\u001b[0m \u001b[0mname\u001b[0m\u001b[0;34m)\u001b[0m\u001b[0;34m\u001b[0m\u001b[0;34m\u001b[0m\u001b[0m\n\u001b[0m\u001b[1;32m   5180\u001b[0m \u001b[0;34m\u001b[0m\u001b[0m\n\u001b[1;32m   5181\u001b[0m     \u001b[0;32mdef\u001b[0m \u001b[0m__setattr__\u001b[0m\u001b[0;34m(\u001b[0m\u001b[0mself\u001b[0m\u001b[0;34m,\u001b[0m \u001b[0mname\u001b[0m\u001b[0;34m,\u001b[0m \u001b[0mvalue\u001b[0m\u001b[0;34m)\u001b[0m\u001b[0;34m:\u001b[0m\u001b[0;34m\u001b[0m\u001b[0;34m\u001b[0m\u001b[0m\n",
      "\u001b[0;31mAttributeError\u001b[0m: 'DataFrame' object has no attribute 'DataFrame'"
     ]
    },
    {
     "data": {
      "image/png": "[encoded data removed]",
      "text/plain": [
       "<Figure size 648x302.4 with 6 Axes>"
      ]
     },
     "metadata": {
      "needs_background": "light"
     },
     "output_type": "display_data"
    }
   ],
   "source": [
    "# scores_df\n",
    "#f, axes = plt.subplots(4, 3, figsize=(11, 15))\n",
    "from itertools import combinations\n",
    "N_SIM = [100, 200, 500, 1000, 2000, 5000]\n",
    "titles = {'guillotine': 'G-INSTANCES', 'florian': 'B-INSTANCES'}\n",
    "plt.rcParams.update({'font.size': 13})\n",
    "#colors = [ \"#E64B35\",\"#4DBBD5\", \"#00A087\",\"#3C5488\", \"#F39B7F\",\"#8491B4\", \"#91D1C2\",\"#DC0000\", \"#7E6148\",\"#B09C85\" ]\n",
    "colors = sns.color_palette()\n",
    "# for color1, color2 in combinations(colors, 2):\n",
    "for subp in range(0, 2):\n",
    "    # plt.suptitle(titles[problem_type], y=1.02)\n",
    "    f, axes = plt.subplots(2, 3, figsize=(9, 4.2))\n",
    "    for p_type_index, problem_type in enumerate(['guillotine', 'florian']):\n",
    "        j = p_type_index\n",
    "        bins = np.arange(0, 9) - 0.5\n",
    "        rows = len(N_SIM) // 2\n",
    "\n",
    "        for i in range(3):\n",
    "            if subp == 0:\n",
    "                n_sim = N_SIM[i % 6]\n",
    "            else:\n",
    "                n_sim = N_SIM[(i + 3) % 6]\n",
    "            common_args = {\n",
    "                'score__isnull': False, 'improved_sel': True,\n",
    "                'n_simulations': n_sim, 'solution_tiles_order__isnull': True\n",
    "            }\n",
    "            if problem_type == 'guillotine':\n",
    "                common_args['problem_generator'] = 'guillotine'\n",
    "                title = f'G instances (N_sim={n_sim})'\n",
    "                avg_depth_scores = Result.objects.filter(problem_id__in=best_problem_ids, strategy='avg_depth', **common_args).values('score')\n",
    "                max_depth_scores = Result.objects.filter(problem_id__in=best_problem_ids, strategy='max_depth', **common_args).values('score')\n",
    "            else:\n",
    "                title = f'B instances (N_sim={n_sim})'\n",
    "                common_args['problem_generator'] = 'florian'\n",
    "                avg_depth_scores = Result.objects.filter(their_id__in=best_their_ids, strategy='avg_depth', **common_args).values('score')\n",
    "                max_depth_scores = Result.objects.filter(their_id__in=best_their_ids, strategy='max_depth', **common_args).values('score')\n",
    "\n",
    "            avg_depth_scores_df = pd.DataFrame.from_records(avg_depth_scores)\n",
    "            sns.distplot(score_to_int(avg_depth_scores_df),\n",
    "                         kde=False, label='avg_depth',\n",
    "                         color=\"#b31b1b\",\n",
    "                         hist_kws=dict(alpha=0.7),\n",
    "                         bins=bins, ax=axes[j][i])\n",
    "            max_depth_scores_df = pd.DataFrame.from_records(max_depth_scores)\n",
    "            sns.distplot(score_to_int(max_depth_scores_df),\n",
    "                              hist_kws=dict(alpha=0.7),\n",
    "                              kde=False, label='max_depth', bins=bins, ax=axes[j][i])\n",
    "            \n",
    "            axes[j][i].set_ylim(0, 650)\n",
    "            axes[j][i].xaxis.set_major_locator(ticker.MultipleLocator(1))\n",
    "            axes[j][i].xaxis.set_major_formatter(ticker.ScalarFormatter())\n",
    "            # plt.xlim(left=i)\n",
    "            title = f'N_sim={n_sim}'\n",
    "            axes[j][i].text(.95,.85,title,\n",
    "                    horizontalalignment='right',\n",
    "                    # verticalalignment='center',\n",
    "                    transform=axes[j][i].transAxes)\n",
    "\n",
    "            if i == 2:\n",
    "                # _title = \"\\n\".join([c for c in titles[problem_type]])\n",
    "                _title = titles[problem_type]\n",
    "                axes[j][i].text(1.10,.1, f'{_title}',\n",
    "                        # horizontalalignment='right',\n",
    "                        rotation='vertical',\n",
    "                                weight='bold',\n",
    "                        # verticalalignment='center',\n",
    "                                size=12,\n",
    "                        transform=axes[j][i].transAxes)\n",
    "                \n",
    "            # MEAN AND STDDEV\n",
    "            color = '#3366ff'\n",
    "            mean = max_depth_scores_df['score'].mean()\n",
    "            median = max_depth_scores_df['score'].median()\n",
    "            stddev = max_depth_scores_df['score'].std()\n",
    "            axes[j][i].axvline(mean - stddev, linestyle=':', color=color)\n",
    "            axes[j][i].axvline(mean + stddev, linestyle=':', color=color)\n",
    "            axes[j][i].axvline(mean, color=color)\n",
    "            print(f'{n_sim};max_depth;{problem_type};{mean};{median};{stddev}')\n",
    "            \n",
    "            color = '#b31b1b'\n",
    "            mean = avg_depth_scores_df['score'].mean()\n",
    "            median = avg_depth_scores_df['score'].median()\n",
    "            stddev = avg_depth_scores_df['score'].std()\n",
    "            print(f'{n_sim};avg_depth;{problem_type};{mean};{median};{stddev}')\n",
    "\n",
    "            axes[j][i].axvline(mean - stddev, linestyle=':', color=color, label='$\\sigma$')\n",
    "            axes[j][i].axvline(mean + stddev, linestyle=':', color=color)\n",
    "            axes[j][i].axvline(mean, color=color, label='$\\mu$')\n",
    "            \n",
    "            #END MEAN AND STDDEV\n",
    "\n",
    "\n",
    "            if problem_type == 'florian':\n",
    "                axes[j][i].set_xlabel('Tiles placed')\n",
    "                axes[j][i].set_xticklabels([21, 20, 19, 18, 17, 16, 15, 14, 13])\n",
    "            else:\n",
    "                axes[j][i].set_xticklabels([])\n",
    "            if i == 0:\n",
    "                pass\n",
    "                # axes[j][i].set_ylabel(f'Number of solutions')\n",
    "            if i > 0:\n",
    "                axes[j][i].set_yticklabels([])\n",
    "            if i == 2 and  problem_type == 'guillotine':\n",
    "                handles, labels = axes[j][i].get_legend_handles_labels()\n",
    "                handles = handles[::-1]\n",
    "                labels = labels[::-1][:2]\n",
    "                import matplotlib.lines as mlines\n",
    "                mu_line = mlines.Line2D([], [], color='black')\n",
    "                handles[2] = mu_line\n",
    "                labels.append('$\\mu$')\n",
    "                sigma_line = mlines.Line2D([], [], color='black', linestyle=':')\n",
    "                handles[3] = sigma_line\n",
    "                labels.append('$\\sigma$')\n",
    "                axes[j][i].legend(handles, labels, loc=(0.4, 0.12), framealpha=0.5, fontsize=11)\n",
    "\n",
    "    f.tight_layout()\n",
    "    # plt.rcParams[\"figure.figsize\"] = (8,5)\n",
    "    plt.show()"
   ]
  },
  {
   "cell_type": "code",
   "execution_count": 26,
   "metadata": {},
   "outputs": [
    {
     "name": "stdout",
     "output_type": "stream",
     "text": [
      "[(0.12156862745098039, 0.4666666666666667, 0.7058823529411765), (1.0, 0.4980392156862745, 0.054901960784313725), (0.17254901960784313, 0.6274509803921569, 0.17254901960784313), (0.8392156862745098, 0.15294117647058825, 0.1568627450980392), (0.5803921568627451, 0.403921568627451, 0.7411764705882353), (0.5490196078431373, 0.33725490196078434, 0.29411764705882354), (0.8901960784313725, 0.4666666666666667, 0.7607843137254902), (0.4980392156862745, 0.4980392156862745, 0.4980392156862745), (0.7372549019607844, 0.7411764705882353, 0.13333333333333333), (0.09019607843137255, 0.7450980392156863, 0.8117647058823529)]\n"
     ]
    },
    {
     "data": {
      "image/png": "[encoded data removed]",
      "text/plain": [
       "<Figure size 720x72 with 1 Axes>"
      ]
     },
     "metadata": {
      "needs_background": "light"
     },
     "output_type": "display_data"
    }
   ],
   "source": [
    "current_palette = sns.color_palette()\n",
    "sns.palplot(current_palette)\n",
    "print(current_palette)"
   ]
  },
  {
   "cell_type": "markdown",
   "metadata": {},
   "source": [
    "### Simulation runs vs score"
   ]
  },
  {
   "cell_type": "code",
   "execution_count": 70,
   "metadata": {},
   "outputs": [
    {
     "name": "stdout",
     "output_type": "stream",
     "text": [
      "avg_depth\n",
      "100 1000\n",
      "avg_depth\n",
      "200 1000\n",
      "avg_depth\n",
      "500 1000\n",
      "avg_depth\n",
      "1000 1000\n",
      "avg_depth\n",
      "2000 1000\n",
      "avg_depth\n",
      "5000 1000\n",
      "[0 1 2 3 4 5]\n",
      "OrderedDict([(100, {'median score': 0.98, 'median tiles placed': 220521938, 'solutions found': 26.6}), (200, {'median score': 0.902, 'median tiles placed': 422117738, 'solutions found': 30.5}), (500, {'median score': 0.795, 'median tiles placed': 921883205, 'solutions found': 39.1}), (1000, {'median score': 0.708, 'median tiles placed': 1615261144, 'solutions found': 46.300000000000004}), (2000, {'median score': 0.64, 'median tiles placed': 2859797316, 'solutions found': 52.2}), (5000, {'median score': 0.558, 'median tiles placed': 5979117095, 'solutions found': 59.5})]) g\n",
      "26.6\t220521938\n",
      "30.5\t422117738\n",
      "39.1\t921883205\n",
      "46.300000000000004\t1615261144\n",
      "52.2\t2859797316\n",
      "59.5\t5979117095\n",
      "Number of tiles non-placed in correlation with simulation runs\n"
     ]
    },
    {
     "data": {
      "image/png": "[encoded data removed]",
      "text/plain": [
       "<Figure size 1080x216 with 2 Axes>"
      ]
     },
     "metadata": {
      "needs_background": "light"
     },
     "output_type": "display_data"
    },
    {
     "name": "stdout",
     "output_type": "stream",
     "text": [
      "avg_depth\n",
      "100 1000\n",
      "avg_depth\n",
      "200 1000\n",
      "avg_depth\n",
      "500 1000\n",
      "avg_depth\n",
      "1000 1000\n",
      "avg_depth\n",
      "2000 1000\n",
      "avg_depth\n",
      "5000 1000\n",
      "[0 1 2 3 4 5]\n",
      "OrderedDict([(100, {'median score': 2.817, 'median tiles placed': 260169644, 'solutions found': 0.3}), (200, {'median score': 2.766, 'median tiles placed': 516697999, 'solutions found': 1.7999999999999998}), (500, {'median score': 2.676, 'median tiles placed': 1289880005, 'solutions found': 2.7}), (1000, {'median score': 2.641, 'median tiles placed': 2541726188, 'solutions found': 4.2}), (2000, {'median score': 2.634, 'median tiles placed': 5079955070, 'solutions found': 4.5}), (5000, {'median score': 2.582, 'median tiles placed': 12430804097, 'solutions found': 6.3})]) b\n",
      "0.3\t260169644\n",
      "1.7999999999999998\t516697999\n",
      "2.7\t1289880005\n",
      "4.2\t2541726188\n",
      "4.5\t5079955070\n",
      "6.3\t12430804097\n",
      "Number of tiles non-placed in correlation with simulation runs\n"
     ]
    },
    {
     "data": {
      "image/png": "[encoded data removed]",
      "text/plain": [
       "<Figure size 1080x216 with 2 Axes>"
      ]
     },
     "metadata": {
      "needs_background": "light"
     },
     "output_type": "display_data"
    }
   ],
   "source": [
    "from collections import defaultdict, OrderedDict\n",
    "from matplotlib.ticker import FuncFormatter, MaxNLocator\n",
    "SIMULATION_RUNS = N_SIM\n",
    "def format_fn(tick_val, tick_pos):\n",
    "    if int(tick_val) in range(0, len(SIMULATION_RUNS)):\n",
    "        return SIMULATION_RUNS[int(tick_val)]\n",
    "    else:\n",
    "        return ''\n",
    "x_vals = defaultdict(list)\n",
    "results = OrderedDict()\n",
    "\n",
    "plt.rcParams[\"figure.figsize\"] = (15,3)\n",
    "\n",
    "for problem_type in ['g', 'b']:\n",
    "    for n_simulations in SIMULATION_RUNS:\n",
    "        common_args = {\n",
    "            # 'problem_id__in': best_problem_ids,\n",
    "            'strategy': 'avg_depth',\n",
    "            'solution_tiles_order__isnull': True,\n",
    "            'n_simulations': n_simulations,\n",
    "            'improved_sel': True, 'score__isnull': False\n",
    "        }\n",
    "        print(common_args['strategy'])\n",
    "        if problem_type == 'g':\n",
    "            common_args['problem_id__in'] = best_problem_ids\n",
    "        else:\n",
    "            common_args['their_id__in'] = best_their_ids\n",
    "        avg_score = np.average(np.array(Result.objects.filter(\n",
    "            **common_args).order_by('their_id').values_list('score', flat=True)))\n",
    "        results[n_simulations] = {'median score': avg_score}\n",
    "        avg_tiles_array =  np.array(Result.objects.filter(\n",
    "            # solution_found=False,\n",
    "            **common_args).order_by('their_id').values_list('n_tiles_placed', flat=True))\n",
    "        # avg_tiles = np.avg(avg_tiles_array)\n",
    "        avg_tiles = np.sum(avg_tiles_array)\n",
    "        # print(len(avg_tiles_array), sum(avg_tiles_array), avg_tiles, sum(avg_tiles_array) / len(avg_tiles_array), 'avg_tiles_array length')\n",
    "        solutions_found = (Result.objects.filter(\n",
    "            solution_found=True,**common_args).order_by('their_id').count() / \n",
    "            Result.objects.filter(**common_args).order_by('their_id').count() * 100)\n",
    "\n",
    "        print(n_simulations, Result.objects.filter(**common_args).count())\n",
    "        results[n_simulations]['median tiles placed'] = avg_tiles\n",
    "        results[n_simulations]['solutions found'] = solutions_found\n",
    "\n",
    "    fig,  ax1 = plt.subplots()\n",
    "    x = np.arange(0, len(SIMULATION_RUNS) )\n",
    "    print(x)\n",
    "    y = np.arange(0,3)\n",
    "    width_offset = 0.10\n",
    "    width = 0.2 \n",
    "    print(results, problem_type)\n",
    "    for k in [100, 200, 500, 1000, 2000, 5000]:\n",
    "        print(f\"{results[k]['solutions found']}\\t{results[k]['median tiles placed']}\")\n",
    "    for i, score_type in enumerate(['median score', 'median tiles placed', 'solutions found']):\n",
    "        # print(result)\n",
    "        sc = [v[score_type] for k, v in results.items()]\n",
    "        current_ax = ax1\n",
    "        color = 'tab:blue'\n",
    "        label = 'Mean error (number of non-placed tiles in final solution)'\n",
    "        if i == 1:\n",
    "            color = 'tab:red'\n",
    "            ax2 = ax1.twinx()\n",
    "            current_ax = ax2\n",
    "            width_offset = -width_offset\n",
    "            label = 'Mean number of tiles placed during search'\n",
    "        if i == 2:\n",
    "            color = 'tab:green'\n",
    "            # ax2 = ax1.twinx()\n",
    "            width_offset = -3 *  width_offset\n",
    "            label = 'Solutions found'\n",
    "        current_ax.bar(x - width_offset, sc, width=width, \n",
    "                label=label, color=color)\n",
    "        if i != 2:\n",
    "            current_ax.xaxis.set_major_formatter(FuncFormatter(format_fn))\n",
    "            current_ax.xaxis.set_major_locator(MaxNLocator(integer=True))\n",
    "\n",
    "        for j, v in enumerate(sc): \n",
    "            offset = width_offset \n",
    "            text = '{:.2f}'.format(v)\n",
    "            _offset = 0.1\n",
    "            _offset_top = 0.01\n",
    "            if v >  100:\n",
    "                text = '{:,.0f}'.format(v)\n",
    "                _offset = 0.10\n",
    "                _offset_top = 50000.35\n",
    "            if i == 2:\n",
    "                text = '{:.1f}%'.format(v)\n",
    "                if problem_type == 'g':\n",
    "                    _offset_top = 0.1\n",
    "            current_ax.text(x[j] - offset - _offset, v + _offset_top, text)\n",
    "\n",
    "    plt.rcParams[\"font.size\"] = 14\n",
    "    # plt.yticks(ticks=np.arange(0, 4))\n",
    "    ax1.set_xlabel('Number of simulations (N_sim)')\n",
    "    # ax1.set_ylabel('Median error (number of non-placed tiles in final solution)')\n",
    "    # ax2.set_ylabel('Median number of tiles placed during search')\n",
    "    fig.legend(loc=(0.08, 0.83))\n",
    "    fig.subplots_adjust(top=2.6, right=1.1)\n",
    "    print('Number of tiles non-placed in correlation with simulation runs')\n",
    "    plt.show()"
   ]
  },
  {
   "cell_type": "code",
   "execution_count": 36,
   "metadata": {},
   "outputs": [
    {
     "data": {
      "text/plain": [
       "11541829.358"
      ]
     },
     "execution_count": 36,
     "metadata": {},
     "output_type": "execute_result"
    }
   ],
   "source": [
    "Result.objects.filter(n_simulations=2000).values('score', 'problem_id')\n",
    "\n",
    "\n",
    "Result.objects.filter(n_simulations=1000).values('score', 'problem_id').filter(problem_id='eeca903e-157c-4f82-9c7f-ad75a41c6b1b')\n",
    "avg_tiles"
   ]
  },
  {
   "cell_type": "markdown",
   "metadata": {},
   "source": [
    "### Compare n_tiles"
   ]
  },
  {
   "cell_type": "code",
   "execution_count": 46,
   "metadata": {},
   "outputs": [
    {
     "name": "stdout",
     "output_type": "stream",
     "text": [
      "5 40 {'median score': 0.0}\n",
      "6 40 {'median score': 0.0}\n",
      "7 40 {'median score': 0.0}\n",
      "8 40 {'median score': 0.0}\n",
      "9 40 {'median score': 0.05}\n",
      "10 40 {'median score': 0.025}\n",
      "11 40 {'median score': 0.425}\n",
      "12 40 {'median score': 0.45}\n",
      "13 40 {'median score': 0.7}\n",
      "14 40 {'median score': 0.875}\n",
      "15 40 {'median score': 0.8}\n",
      "16 40 {'median score': 1.675}\n",
      "17 40 {'median score': 1.775}\n",
      "18 40 {'median score': 1.375}\n",
      "19 40 {'median score': 1.8}\n",
      "20 40 {'median score': 0.25}\n",
      "21 40 {'median score': 2.05}\n",
      "22 40 {'median score': 1.925}\n",
      "23 40 {'median score': 2.15}\n",
      "24 40 {'median score': 2.15}\n",
      "25 40 {'median score': 2.4}\n",
      "26 40 {'median score': 3.5}\n",
      "27 40 {'median score': 2.35}\n",
      "28 40 {'median score': 2.475}\n",
      "29 40 {'median score': 2.45}\n",
      "30 40 {'median score': 2.725}\n",
      "[ 5  6  7  8  9 10 11 12 13 14 15 16 17 18 19 20 21 22 23 24 25 26 27 28\n",
      " 29 30]\n",
      "Number of tiles non-placed in correlation with simulation runs\n"
     ]
    },
    {
     "data": {
      "image/png": "[encoded data removed]",
      "text/plain": [
       "<Figure size 1080x216 with 2 Axes>"
      ]
     },
     "metadata": {
      "needs_background": "light"
     },
     "output_type": "display_data"
    }
   ],
   "source": [
    "from collections import defaultdict, OrderedDict\n",
    "from matplotlib.ticker import FuncFormatter, MaxNLocator\n",
    "\n",
    "N_TILES = list(range(5, 31))\n",
    "\n",
    "def format_fn(tick_val, tick_pos):\n",
    "    return str(int(tick_val))\n",
    "    if int(tick_val) in N_TILES:\n",
    "        return N_TILES[int(tick_val)]\n",
    "    else:\n",
    "        return ''\n",
    "    \n",
    "x_vals = defaultdict(list)\n",
    "results = OrderedDict()\n",
    "\n",
    "plt.rcParams[\"figure.figsize\"] = (15,3)\n",
    "\n",
    "LAST_N_RECORDS = 40\n",
    "\n",
    "for n_tiles in N_TILES:\n",
    "    common_args = {\n",
    "        'strategy': 'max_depth', 'n_tiles': n_tiles,\n",
    "        'score__isnull': False, 'n_tiles_placed__isnull': False,\n",
    "        'n_simulations': 1000, 'problem_generator': 'guillotine'\n",
    "    }\n",
    "    res_avg_score = Result.objects.filter(**common_args).order_by('-created_on').values_list('score', flat=True)[:LAST_N_RECORDS]\n",
    "    if res_avg_score:\n",
    "        avg_score = np.average(np.array(res_avg_score))\n",
    "    else:\n",
    "        avg_score = 0\n",
    "    results[n_tiles] = {'median score': avg_score}\n",
    "    \n",
    "    res_tiles_placed = Result.objects.filter(**common_args).order_by('-created_on').values_list('n_tiles_placed', flat=True)[:LAST_N_RECORDS]\n",
    "    if res_tiles_placed:\n",
    "        avg_tiles = np.average(np.array(res_tiles_placed))\n",
    "    else:\n",
    "        avg_tiles = 0\n",
    "    print(n_tiles, res_tiles_placed.count(), results[n_tiles])\n",
    "    results[n_tiles]['median tiles placed'] = avg_tiles\n",
    "    \n",
    "fig,  ax1 = plt.subplots()\n",
    "x = np.arange(N_TILES[0], N_TILES[-1] + 1)\n",
    "print(x)\n",
    "y = np.arange(0,3)\n",
    "width_offset = 0.10\n",
    "width = 0.2 \n",
    "for i, score_type in enumerate(['median score', 'median tiles placed']):\n",
    "    # print(result)\n",
    "    sc = [v[score_type] for k, v in results.items()]\n",
    "    current_ax = ax1\n",
    "    color = 'tab:blue'\n",
    "    label = 'Median error (number of non-placed tiles in final solution)'\n",
    "    if i == 1:\n",
    "        color = 'tab:red'\n",
    "        ax2 = ax1.twinx()\n",
    "        current_ax = ax2\n",
    "        width_offset = -width_offset\n",
    "        label = 'Median number of tiles placed during search'\n",
    "    current_ax.bar(x - width_offset, sc, width=width, \n",
    "            label=label, color=color)\n",
    "    current_ax.xaxis.set_major_formatter(FuncFormatter(format_fn))\n",
    "    current_ax.xaxis.set_major_locator(MaxNLocator(integer=True))\n",
    "    \n",
    "    # for i, v in enumerate(sc): \n",
    "    #     offset = width_offset \n",
    "    #     text = '{:.3f}'.format(v)\n",
    "    #     _offset = 0.12\n",
    "    #     _offset_top = 0.01\n",
    "    #     if v >  10:\n",
    "    #         text = '{:.0f}'.format(v)\n",
    "    #         _offset = 0.10\n",
    "    #         _offset_top = 50000.35\n",
    "    #     current_ax.text(x[i] - offset - _offset, v + _offset_top, text)\n",
    "   \n",
    "plt.rcParams[\"font.size\"] = 14\n",
    "# plt.yticks(ticks=np.arange(0, 4))\n",
    "ax1.set_xlabel('Number of tiles (n_tiles)')\n",
    "# ax1.set_ylabel('Median error (number of non-placed tiles in final solution)')\n",
    "# ax2.set_ylabel('Median number of tiles placed during search')\n",
    "fig.legend(loc='upper center')\n",
    "fig.subplots_adjust(top=1.6)\n",
    "print('Number of tiles non-placed in correlation with simulation runs')\n",
    "plt.show()"
   ]
  },
  {
   "cell_type": "markdown",
   "metadata": {},
   "source": [
    "### Tiles placed (Huristic vs MCTS)"
   ]
  },
  {
   "cell_type": "code",
   "execution_count": null,
   "metadata": {},
   "outputs": [],
   "source": [
    "instances_where_solution_is_found = Result.objects.filter(solution_found=True, n_tiles=20, problem_generator='florian').values('n_tiles_placed', 'their_tiles_placed')\n",
    "scores_df = pd.DataFrame.from_records(instances_where_solution_is_found)\n",
    "scores_df"
   ]
  },
  {
   "cell_type": "code",
   "execution_count": null,
   "metadata": {},
   "outputs": [],
   "source": [
    "STRATEGIES = ['avg_depth', 'max_depth']\n",
    "common_args = {\n",
    "    'n_tiles': 20, \n",
    "    'score__isnull': False, \n",
    "    'improved_sel': True,\n",
    "    'their_id__in': best_their_ids\n",
    "}\n",
    "N_SIM = [100, 200, 500, 1000, 2000, 5000]\n",
    "for strategy in STRATEGIES:\n",
    "    for n_sim in N_SIM:\n",
    "        solutions_found = Result.objects.filter(\n",
    "            solution_found=True, problem_generator='florian', n_simulations=n_sim, strategy=strategy, **common_args).count()\n",
    "        solutions_not_found = Result.objects.filter(\n",
    "             problem_generator='florian', n_simulations=n_sim, strategy=strategy, **common_args).count()\n",
    "        tiles_placed = np.average(np.array(Result.objects.filter(problem_generator='florian', n_simulations=n_sim, strategy=strategy, **common_args).values_list('n_tiles_placed', flat=True)))\n",
    "        error = np.average(np.array(Result.objects.filter(problem_generator='florian', n_simulations=n_sim, strategy=strategy, **common_args).values_list('score', flat=True)))\n",
    "        print(f'Florian instances with {n_sim} simulations and strategy {strategy}:')\n",
    "        print(f'solutions found: {solutions_found} / {solutions_not_found} = {solutions_found / solutions_not_found * 100} %')\n",
    "        print(f'tiles placed: {tiles_placed}')\n",
    "        print(f'{solutions_found / solutions_not_found * 100 : .1f}% \\t {int(round(tiles_placed)):,} \\t {error}')\n",
    "        print()"
   ]
  },
  {
   "cell_type": "code",
   "execution_count": null,
   "metadata": {},
   "outputs": [],
   "source": [
    "common_args = {\n",
    "    'n_tiles': 20, \n",
    "    'score__isnull': False, \n",
    "    'improved_sel': True,\n",
    "    'problem_id__in': best_problem_ids,\n",
    "}\n",
    "\n",
    "for strategy in STRATEGIES:\n",
    "    for n_sim in N_SIM:\n",
    "        print(f'Guillotine instances - {n_sim} - {strategy}:')\n",
    "        solutions_found = Result.objects.filter(\n",
    "            solution_found=True,  problem_generator='guillotine', n_simulations=n_sim, strategy=strategy, **common_args).count()\n",
    "        solutions_not_found = Result.objects.filter(\n",
    "            problem_generator='guillotine', n_simulations=n_sim, strategy=strategy, **common_args).count()\n",
    "        tiles_placed = np.average(np.array(Result.objects.filter( problem_generator='guillotine', n_simulations=n_sim, strategy=strategy, **common_args).values_list('n_tiles_placed', flat=True)))\n",
    "        error = np.average(np.array(Result.objects.filter( problem_generator='guillotine', n_simulations=n_sim, strategy=strategy, **common_args).values_list('score', flat=True)))\n",
    "        \n",
    "        print(f'solutions found: {solutions_found} / {solutions_not_found} = {solutions_found / solutions_not_found * 100} %')\n",
    "        print(f'tiles placed: {tiles_placed}')\n",
    "        print(f'error: {error}')\n",
    "        print(f'{solutions_found / solutions_not_found * 100 : .1f}% \\t {int(round(tiles_placed)):,} \\t {error}')\n",
    "        print()"
   ]
  },
  {
   "cell_type": "code",
   "execution_count": null,
   "metadata": {},
   "outputs": [],
   "source": [
    "common_args = {\n",
    "    'n_tiles': 20, \n",
    "    'score__isnull': False, \n",
    "    'improved_sel': True,\n",
    "    'problem_id__in': best_problem_ids,\n",
    "}\n",
    "for strategy in STRATEGIES:\n",
    "    for n_sim in N_SIM:\n",
    "        average_tiles_placed_deterministic = Result.objects.filter(\n",
    "            n_tiles=20, problem_generator='florian').aggregate(Avg('their_tiles_placed'))\n",
    "        print('NG instances'); print('-' * 20)\n",
    "\n",
    "        print('Florian tiles placed:', average_tiles_placed_deterministic)\n",
    "        average_tiles_placed_deterministic = Result.objects.filter(\n",
    "            n_tiles=20, problem_generator='florian', n_tiles_placed__isnull=False, strategy='max_depth').aggregate(Avg('n_tiles_placed'))\n",
    "        print('MCTS tiles placed:', average_tiles_placed_deterministic); print()\n",
    "\n",
    "        print('G instances'); print('-' * 20)\n",
    "        average_tiles_placed_deterministic = Result.objects.filter(\n",
    "            n_tiles=20, problem_generator='guillotine', n_tiles_placed__isnull=False, strategy='max_depth').aggregate(Avg('n_tiles_placed'))\n",
    "        print('MCTS tiles placed:', average_tiles_placed_deterministic)"
   ]
  },
  {
   "cell_type": "code",
   "execution_count": null,
   "metadata": {},
   "outputs": [],
   "source": []
  },
  {
   "cell_type": "code",
   "execution_count": null,
   "metadata": {},
   "outputs": [],
   "source": []
  },
  {
   "cell_type": "code",
   "execution_count": null,
   "metadata": {},
   "outputs": [],
   "source": []
  },
  {
   "cell_type": "code",
   "execution_count": null,
   "metadata": {},
   "outputs": [],
   "source": []
  },
  {
   "cell_type": "code",
   "execution_count": null,
   "metadata": {},
   "outputs": [],
   "source": []
  }
 ],
 "metadata": {
  "kernelspec": {
   "display_name": "Django Shell-Plus",
   "language": "python",
   "name": "django_extensions"
  },
  "language_info": {
   "codemirror_mode": {
    "name": "ipython",
    "version": 3
   },
   "file_extension": ".py",
   "mimetype": "text/x-python",
   "name": "python",
   "nbconvert_exporter": "python",
   "pygments_lexer": "ipython3",
   "version": "3.7.3"
  }
 },
 "nbformat": 4,
 "nbformat_minor": 2
}

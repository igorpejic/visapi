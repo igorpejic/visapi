{
 "cells": [
  {
   "cell_type": "code",
   "execution_count": 5,
   "metadata": {},
   "outputs": [],
   "source": [
    "from binpack.models import Result\n",
    "import seaborn as sns\n",
    "import pandas as pd\n",
    "import numpy as np\n",
    "import matplotlib.pyplot as plt\n",
    "import matplotlib.ticker as ticker\n",
    "from statsmodels.stats import descriptivestats"
   ]
  },
  {
   "cell_type": "code",
   "execution_count": 2,
   "metadata": {},
   "outputs": [],
   "source": [
    "results = Result.objects.filter(n_tiles=20)"
   ]
  },
  {
   "cell_type": "code",
   "execution_count": 3,
   "metadata": {},
   "outputs": [
    {
     "data": {
      "text/plain": [
       "<QuerySet [{'score': 1.0}, {'score': 1.0}, {'score': 2.0}, {'score': 3.0}, {'score': 0.0}, {'score': 3.0}, {'score': 1.0}, {'score': 3.0}, {'score': 2.0}, {'score': 3.0}, {'score': 1.0}, {'score': 3.0}, {'score': 2.0}, {'score': 4.0}, {'score': 3.0}, {'score': 1.0}, {'score': 1.0}, {'score': 0.0}, {'score': 0.0}, {'score': 0.0}, '...(remaining elements truncated)...']>"
      ]
     },
     "execution_count": 3,
     "metadata": {},
     "output_type": "execute_result"
    }
   ],
   "source": [
    "results.values('score')"
   ]
  },
  {
   "cell_type": "code",
   "execution_count": 84,
   "metadata": {},
   "outputs": [],
   "source": [
    "def calc_p_value(results, max_depth_instances, avg_depth_instances): \n",
    "    max_depth_wins = 0\n",
    "    avg_depth_wins = 0\n",
    "    draws = 0\n",
    "    values = []\n",
    "    for max_depth_res in max_depth_instances:\n",
    "        avg_depth_res = results.filter(\n",
    "            score__isnull=False, strategy='avg_depth',\n",
    "            cols=max_depth_res.cols, rows=max_depth_res.rows,\n",
    "            tiles=max_depth_res.tiles, **common_args)\n",
    "        \n",
    "        if avg_depth_res.count() == 1:\n",
    "            avg_depth_score = avg_depth_res.first().score\n",
    "            max_depth_score = max_depth_res.score\n",
    "            if avg_depth_score > max_depth_score: # lower is better\n",
    "                max_depth_wins +=1 \n",
    "                values.append(1)\n",
    "            elif avg_depth_score < max_depth_score:\n",
    "                avg_depth_wins += 1\n",
    "                values.append(-1)\n",
    "            else:\n",
    "                draws += 1\n",
    "                \n",
    "    print(f'In total max_depth_wins: {max_depth_wins}, avg_depth_wins: {avg_depth_wins}, and {draws} ties.')\n",
    "    \n",
    "    m = descriptivestats.sign_test(values)\n",
    "    print(f'p value: {m[1]}')"
   ]
  },
  {
   "cell_type": "code",
   "execution_count": 85,
   "metadata": {},
   "outputs": [
    {
     "name": "stdout",
     "output_type": "stream",
     "text": [
      "Guillotine\n",
      "In total max_depth_wins: 25, avg_depth_wins: 5, and 10 ties.\n",
      "p value: 0.0003249142318964004\n",
      "Non-guillotine\n",
      "In total max_depth_wins: 938, avg_depth_wins: 86, and 148 ties.\n",
      "p value: 9.869312967488662e-182\n",
      "39\n",
      "41\n",
      "1172\n",
      "1172\n"
     ]
    }
   ],
   "source": [
    "\n",
    "common_args = {'problem_generator': 'florian', 'n_simulations': 1000}\n",
    "\n",
    "common_args['problem_generator'] = 'guillotine'\n",
    "\n",
    "\n",
    "# find same problem instances\n",
    "avg_depth_ids = []\n",
    "max_depth_ids = []\n",
    "for max_depth_res in results.filter(score__isnull=False, strategy='max_depth', **common_args):\n",
    "    avg_depth_score = results.filter(\n",
    "        score__isnull=False, strategy='avg_depth',\n",
    "        cols=max_depth_res.cols, rows=max_depth_res.rows,\n",
    "         tiles=max_depth_res.tiles, **common_args)\n",
    "    if avg_depth_score:\n",
    "        avg_depth_ids.append(avg_depth_score.first().id)\n",
    "        max_depth_ids.append(max_depth_res.id)\n",
    "g_max_depth_instances = results.filter(id__in=max_depth_ids)\n",
    "g_avg_depth_instances = results.filter(id__in=avg_depth_ids)\n",
    "g_max_depth_scores = g_max_depth_instances.values('score')\n",
    "g_avg_depth_scores = g_avg_depth_instances.values('score')\n",
    "\n",
    "print('Guillotine')\n",
    "calc_p_value(Result.objects.filter(**common_args), g_max_depth_instances, g_avg_depth_instances)\n",
    "\n",
    "common_args['problem_generator'] = 'florian'\n",
    "ng_avg_depth_instances = results.filter(score__isnull=False, strategy='avg_depth', **common_args)\n",
    "ng_max_depth_instances = results.filter(score__isnull=False, strategy='max_depth', **common_args)\n",
    "ng_avg_depth_scores = ng_avg_depth_instances.values('score')\n",
    "ng_max_depth_scores = ng_max_depth_instances.values('score')\n",
    "    \n",
    "print('Non-guillotine')\n",
    "calc_p_value(Result.objects.filter(**common_args), ng_max_depth_instances, ng_avg_depth_instances)\n",
    "\n",
    "print(g_avg_depth_scores.count())\n",
    "print(g_max_depth_scores.count())\n",
    "\n",
    "print(ng_avg_depth_scores.count())\n",
    "print(ng_max_depth_scores.count())\n",
    "\n",
    "# scores = results.values('score', 'strategy')\n",
    "# print(np.average(np.array(results.filter(score__isnull=False, strategy='avg_depth', **common_args).values_list('rows', flat=True))))\n",
    "# print(np.average(np.array(results.filter(score__isnull=False, strategy='max_depth', **common_args).values_list('rows', flat=True))))"
   ]
  },
  {
   "cell_type": "code",
   "execution_count": 30,
   "metadata": {},
   "outputs": [],
   "source": [
    "scores_df = pd.DataFrame.from_records(scores)\n",
    "avg_depth_df = pd.DataFrame.from_records(avg_depth_scores)\n",
    "def score_to_int(df):\n",
    "    df['score'] = df['score'].astype('int')\n",
    "    return df"
   ]
  },
  {
   "cell_type": "code",
   "execution_count": 46,
   "metadata": {},
   "outputs": [
    {
     "data": {
      "image/png": "[encoded data removed]",
      "text/plain": [
       "<Figure size 720x360 with 2 Axes>"
      ]
     },
     "metadata": {
      "needs_background": "light"
     },
     "output_type": "display_data"
    }
   ],
   "source": [
    "# scores_df\n",
    "f, axes = plt.subplots(1, 2)\n",
    "\n",
    "bins = np.arange(0, 12)\n",
    "for i in range(2):\n",
    "    if i == 0:\n",
    "        title = 'Guillotinable instances'\n",
    "        avg_depth_scores = g_avg_depth_scores\n",
    "        max_depth_scores = g_max_depth_scores\n",
    "    else:\n",
    "        title = 'Non-guillotinable instances'\n",
    "        avg_depth_scores = ng_avg_depth_scores\n",
    "        max_depth_scores = ng_max_depth_scores\n",
    "        \n",
    "    sns.distplot(score_to_int(pd.DataFrame.from_records(avg_depth_scores)),\n",
    "                 kde=False, color='skyblue', label='avg_depth', bins=bins, ax=axes[i])\n",
    "    sns.distplot(score_to_int(pd.DataFrame.from_records(max_depth_scores)),\n",
    "                      kde=False, color='red', label='max_depth', bins=bins, ax=axes[i])\n",
    "    axes[i].xaxis.set_major_locator(ticker.MultipleLocator(1))\n",
    "    axes[i].xaxis.set_major_formatter(ticker.ScalarFormatter())\n",
    "    # plt.xlim(left=i)\n",
    "    axes[i].set_ylabel('Number of solutions')\n",
    "    axes[i].set_xlabel('Score (tiles unplaced)')\n",
    "    axes[i].set_title(title)\n",
    "    axes[i].legend()\n",
    "plt.rcParams[\"figure.figsize\"] = (8,5)\n",
    "plt.show()"
   ]
  },
  {
   "cell_type": "code",
   "execution_count": 7,
   "metadata": {},
   "outputs": [
    {
     "data": {
      "text/plain": [
       "<QuerySet [{'score': 5.0, 'total_for_score': 1}, {'score': 3.0, 'total_for_score': 1}, {'score': 4.0, 'total_for_score': 1}, {'score': 7.0, 'total_for_score': 1}, {'score': 0.0, 'total_for_score': 1}, {'score': 0.0, 'total_for_score': 1}, {'score': 0.0, 'total_for_score': 1}, {'score': 1.0, 'total_for_score': 1}, {'score': 0.0, 'total_for_score': 1}, {'score': 0.0, 'total_for_score': 1}, {'score': 3.0, 'total_for_score': 1}, {'score': 3.0, 'total_for_score': 1}, {'score': 1.0, 'total_for_score': 1}, {'score': 0.0, 'total_for_score': 1}, {'score': 3.0, 'total_for_score': 1}, {'score': 0.0, 'total_for_score': 1}, {'score': 3.0, 'total_for_score': 1}, {'score': 3.0, 'total_for_score': 1}, {'score': 0.0, 'total_for_score': 1}, {'score': 2.0, 'total_for_score': 1}, '...(remaining elements truncated)...']>"
      ]
     },
     "execution_count": 7,
     "metadata": {},
     "output_type": "execute_result"
    }
   ],
   "source": [
    "# find total scores by annotation\n",
    "from django.db.models import Count\n",
    "results.values('score').annotate(total_for_score=Count('score'))"
   ]
  },
  {
   "cell_type": "code",
   "execution_count": 8,
   "metadata": {},
   "outputs": [
    {
     "data": {
      "text/plain": [
       "2458"
      ]
     },
     "execution_count": 8,
     "metadata": {},
     "output_type": "execute_result"
    }
   ],
   "source": [
    "results.count()"
   ]
  },
  {
   "cell_type": "markdown",
   "metadata": {},
   "source": [
    "### Simulation runs vs score"
   ]
  },
  {
   "cell_type": "code",
   "execution_count": 4,
   "metadata": {},
   "outputs": [
    {
     "data": {
      "text/plain": [
       "<QuerySet [2020-01-12 07:05:24.119755+00:00 -20 (35 x 39), 2020-01-12 06:41:19.849995+00:00 -20 (15 x 20), 2020-01-12 06:02:00.509728+00:00 -20 (35 x 36), 2020-01-12 05:53:46.211109+00:00 -20 (15 x 20), 2020-01-12 03:52:18.871395+00:00 -20 (11 x 17), 2020-01-12 03:43:57.699879+00:00 -20 (11 x 17), 2020-01-12 02:03:51.417657+00:00 -20 (35 x 36), 2020-01-12 00:38:04.276890+00:00 -20 (17 x 23), 2020-01-12 00:37:06.645556+00:00 -20 (30 x 34), 2020-01-12 00:24:19.825561+00:00 -20 (17 x 23), 2020-01-11 23:36:45.794624+00:00 -20 (30 x 34), 2020-01-11 21:57:17.942623+00:00 -20 (26 x 27), 2020-01-11 20:52:19.729161+00:00 -20 (26 x 27), 2020-01-11 17:33:30.461394+00:00 -20 (34 x 35), 2020-01-11 17:10:49.498598+00:00 -20 (37 x 28), 2020-01-11 17:07:23.592766+00:00 -20 (21 x 34), 2020-01-11 16:56:53.813628+00:00 -20 (21 x 34), 2020-01-11 15:29:24.478136+00:00 -20 (34 x 35), 2020-01-11 14:48:32.234212+00:00 -20 (37 x 28), 2020-01-11 13:39:51.716649+00:00 -20 (33 x 32), '...(remaining elements truncated)...']>"
      ]
     },
     "execution_count": 4,
     "metadata": {},
     "output_type": "execute_result"
    }
   ],
   "source": [
    "s1 = set(Result.objects.filter(n_simulations=5000).values_list('their_id', flat=True))\n",
    "s2 = set(Result.objects.filter(n_simulations=10000).values_list('their_id', flat=True))\n",
    "s1 - s2\n",
    "Result.objects.filter(n_simulations=10000)"
   ]
  },
  {
   "cell_type": "code",
   "execution_count": 14,
   "metadata": {},
   "outputs": [
    {
     "name": "stdout",
     "output_type": "stream",
     "text": [
      "100 26\n",
      "500 26\n",
      "1000 26\n",
      "2000 26\n",
      "5000 25\n",
      "10000 23\n",
      "[0 1 2 3 4 5]\n",
      "Number of tiles non-placed in correlation with simulation runs\n"
     ]
    },
    {
     "data": {
      "image/png": "[encoded data removed]",
      "text/plain": [
       "<Figure size 1080x216 with 2 Axes>"
      ]
     },
     "metadata": {
      "needs_background": "light"
     },
     "output_type": "display_data"
    }
   ],
   "source": [
    "from collections import defaultdict, OrderedDict\n",
    "from matplotlib.ticker import FuncFormatter, MaxNLocator\n",
    "SIMULATION_RUNS = [100, 500, 1000, 2000, 5000, 10000]\n",
    "def format_fn(tick_val, tick_pos):\n",
    "    if int(tick_val) in range(0, len(SIMULATION_RUNS)):\n",
    "        return SIMULATION_RUNS[int(tick_val)]\n",
    "    else:\n",
    "        return ''\n",
    "problem_ids = Result.objects.filter(n_simulations=500, score__isnull=False, problem_generator='guillotine').values_list('problem_id')\n",
    "x_vals = defaultdict(list)\n",
    "results = OrderedDict()\n",
    "\n",
    "plt.rcParams[\"figure.figsize\"] = (15,3)\n",
    "\n",
    "for n_simulations in SIMULATION_RUNS:\n",
    "    common_args = {\n",
    "        'problem_id__in': problem_ids, 'strategy': 'max_depth', 'n_simulations': n_simulations,\n",
    "        'score__isnull': False\n",
    "    }\n",
    "    avg_score = np.average(np.array(Result.objects.filter(\n",
    "        **common_args).order_by('their_id').values_list('score', flat=True)))\n",
    "    results[n_simulations] = {'median score': avg_score}\n",
    "    avg_tiles = np.average(np.array(Result.objects.filter(\n",
    "        **common_args).order_by('their_id').values_list('n_tiles_placed', flat=True)))\n",
    "    print(n_simulations, Result.objects.filter(**common_args).count())\n",
    "    results[n_simulations]['median tiles placed'] = avg_tiles\n",
    "    \n",
    "fig,  ax1 = plt.subplots()\n",
    "x = np.arange(0, len(SIMULATION_RUNS) )\n",
    "print(x)\n",
    "y = np.arange(0,3)\n",
    "width_offset = 0.10\n",
    "width = 0.2 \n",
    "for i, score_type in enumerate(['median score', 'median tiles placed']):\n",
    "    # print(result)\n",
    "    sc = [v[score_type] for k, v in results.items()]\n",
    "    current_ax = ax1\n",
    "    color = 'tab:blue'\n",
    "    label = 'Median error (number of non-placed tiles in final solution)'\n",
    "    if i == 1:\n",
    "        color = 'tab:red'\n",
    "        ax2 = ax1.twinx()\n",
    "        current_ax = ax2\n",
    "        width_offset = -width_offset\n",
    "        label = 'Median number of tiles placed during search'\n",
    "    current_ax.bar(x - width_offset, sc, width=width, \n",
    "            label=label, color=color)\n",
    "    current_ax.xaxis.set_major_formatter(FuncFormatter(format_fn))\n",
    "    current_ax.xaxis.set_major_locator(MaxNLocator(integer=True))\n",
    "    \n",
    "    for i, v in enumerate(sc): \n",
    "        offset = width_offset \n",
    "        text = '{:.3f}'.format(v)\n",
    "        _offset = 0.12\n",
    "        _offset_top = 0.01\n",
    "        if v >  10:\n",
    "            text = '{:.0f}'.format(v)\n",
    "            _offset = 0.10\n",
    "            _offset_top = 50000.35\n",
    "        current_ax.text(x[i] - offset - _offset, v + _offset_top, text)\n",
    "   \n",
    "plt.rcParams[\"font.size\"] = 14\n",
    "# plt.yticks(ticks=np.arange(0, 4))\n",
    "ax1.set_xlabel('Number of simulations (N_sim)')\n",
    "# ax1.set_ylabel('Median error (number of non-placed tiles in final solution)')\n",
    "# ax2.set_ylabel('Median number of tiles placed during search')\n",
    "fig.legend(loc='upper center')\n",
    "fig.subplots_adjust(top=1.6)\n",
    "print('Number of tiles non-placed in correlation with simulation runs')\n",
    "plt.show()"
   ]
  },
  {
   "cell_type": "code",
   "execution_count": 1,
   "metadata": {},
   "outputs": [
    {
     "data": {
      "text/plain": [
       "<QuerySet [{'score': 3.0, 'problem_id': 'eeca903e-157c-4f82-9c7f-ad75a41c6b1b'}, {'score': 1.0, 'problem_id': 'eeca903e-157c-4f82-9c7f-ad75a41c6b1b'}]>"
      ]
     },
     "execution_count": 1,
     "metadata": {},
     "output_type": "execute_result"
    }
   ],
   "source": [
    "Result.objects.filter(n_simulations=2000).values('score', 'problem_id')\n",
    "\n",
    "\n",
    "Result.objects.filter(n_simulations=1000).values('score', 'problem_id').filter(problem_id='eeca903e-157c-4f82-9c7f-ad75a41c6b1b')"
   ]
  },
  {
   "cell_type": "markdown",
   "metadata": {},
   "source": [
    "### Compare n_tiles"
   ]
  },
  {
   "cell_type": "code",
   "execution_count": 24,
   "metadata": {},
   "outputs": [
    {
     "name": "stdout",
     "output_type": "stream",
     "text": [
      "5 0 {'median score': 0}\n",
      "6 0 {'median score': 0}\n",
      "7 0 {'median score': 0}\n",
      "8 0 {'median score': 0}\n",
      "9 0 {'median score': 0}\n",
      "10 7 {'median score': 10.0}\n",
      "11 0 {'median score': 0}\n",
      "12 0 {'median score': 0}\n",
      "13 0 {'median score': 0}\n",
      "14 0 {'median score': 0}\n",
      "15 0 {'median score': 0}\n",
      "16 0 {'median score': 0}\n",
      "17 0 {'median score': 0}\n",
      "18 0 {'median score': 0}\n",
      "19 0 {'median score': 0}\n",
      "20 20 {'median score': 1.55}\n",
      "21 0 {'median score': 0}\n",
      "22 0 {'median score': 0}\n",
      "23 0 {'median score': 0}\n",
      "24 0 {'median score': 0}\n",
      "25 0 {'median score': 0}\n",
      "26 0 {'median score': 0}\n",
      "27 0 {'median score': 0}\n",
      "28 0 {'median score': 0}\n",
      "29 0 {'median score': 0}\n",
      "[ 5  6  7  8  9 10 11 12 13 14 15 16 17 18 19 20 21 22 23 24 25 26 27 28\n",
      " 29]\n",
      "Number of tiles non-placed in correlation with simulation runs\n"
     ]
    },
    {
     "data": {
      "image/png": "[encoded data removed]",
      "text/plain": [
       "<Figure size 1080x216 with 2 Axes>"
      ]
     },
     "metadata": {
      "needs_background": "light"
     },
     "output_type": "display_data"
    }
   ],
   "source": [
    "from collections import defaultdict, OrderedDict\n",
    "from matplotlib.ticker import FuncFormatter, MaxNLocator\n",
    "\n",
    "N_TILES = list(range(5, 30))\n",
    "\n",
    "def format_fn(tick_val, tick_pos):\n",
    "    print(N_TILES, int(tick_val))\n",
    "    if int(tick_val) in N_TILES:\n",
    "        return N_TILES[int(tick_val)]\n",
    "    else:\n",
    "        return ''\n",
    "    \n",
    "x_vals = defaultdict(list)\n",
    "results = OrderedDict()\n",
    "\n",
    "plt.rcParams[\"figure.figsize\"] = (15,3)\n",
    "\n",
    "LAST_N_RECORDS = 20\n",
    "\n",
    "for n_tiles in N_TILES:\n",
    "    common_args = {\n",
    "        'strategy': 'max_depth', 'n_tiles': n_tiles,\n",
    "        'score__isnull': False, 'n_tiles_placed__isnull': False,\n",
    "        'n_simulations': 1000, 'problem_generator': 'guillotine'\n",
    "    }\n",
    "    res_avg_score = Result.objects.filter(**common_args).order_by('-created_on').values_list('score', flat=True)[:LAST_N_RECORDS]\n",
    "    if res_avg_score:\n",
    "        avg_score = np.average(np.array(res_avg_score))\n",
    "    else:\n",
    "        avg_score = 0\n",
    "    results[n_tiles] = {'median score': avg_score}\n",
    "    \n",
    "    res_tiles_placed = Result.objects.filter(**common_args).order_by('-created_on').values_list('n_tiles_placed', flat=True)[:LAST_N_RECORDS]\n",
    "    if res_tiles_placed:\n",
    "        avg_tiles = np.average(np.array(res_tiles_placed))\n",
    "    else:\n",
    "        avg_tiles = 0\n",
    "    print(n_tiles, res_tiles_placed.count(), results[n_tiles])\n",
    "    results[n_tiles]['median tiles placed'] = avg_tiles\n",
    "    \n",
    "fig,  ax1 = plt.subplots()\n",
    "x = np.arange(N_TILES[0], N_TILES[-1] + 1)\n",
    "print(x)\n",
    "y = np.arange(0,3)\n",
    "width_offset = 0.10\n",
    "width = 0.2 \n",
    "for i, score_type in enumerate(['median score', 'median tiles placed']):\n",
    "    # print(result)\n",
    "    sc = [v[score_type] for k, v in results.items()]\n",
    "    current_ax = ax1\n",
    "    color = 'tab:blue'\n",
    "    label = 'Median error (number of non-placed tiles in final solution)'\n",
    "    if i == 1:\n",
    "        color = 'tab:red'\n",
    "        ax2 = ax1.twinx()\n",
    "        current_ax = ax2\n",
    "        width_offset = -width_offset\n",
    "        label = 'Median number of tiles placed during search'\n",
    "    current_ax.bar(x - width_offset, sc, width=width, \n",
    "            label=label, color=color)\n",
    "    # current_ax.xaxis.set_major_formatter(FuncFormatter(format_fn))\n",
    "    # current_ax.xaxis.set_major_locator(MaxNLocator(integer=True))\n",
    "    \n",
    "    for i, v in enumerate(sc): \n",
    "        offset = width_offset \n",
    "        text = '{:.3f}'.format(v)\n",
    "        _offset = 0.12\n",
    "        _offset_top = 0.01\n",
    "        if v >  10:\n",
    "            text = '{:.0f}'.format(v)\n",
    "            _offset = 0.10\n",
    "            _offset_top = 50000.35\n",
    "        current_ax.text(x[i] - offset - _offset, v + _offset_top, text)\n",
    "   \n",
    "plt.rcParams[\"font.size\"] = 14\n",
    "# plt.yticks(ticks=np.arange(0, 4))\n",
    "ax1.set_xlabel('Number of tiles (n_tiles)')\n",
    "# ax1.set_ylabel('Median error (number of non-placed tiles in final solution)')\n",
    "# ax2.set_ylabel('Median number of tiles placed during search')\n",
    "fig.legend(loc='upper center')\n",
    "fig.subplots_adjust(top=1.6)\n",
    "print('Number of tiles non-placed in correlation with simulation runs')\n",
    "plt.show()"
   ]
  },
  {
   "cell_type": "markdown",
   "metadata": {},
   "source": [
    "### Tiles placed (Huristic vs MCTS)"
   ]
  },
  {
   "cell_type": "code",
   "execution_count": 14,
   "metadata": {},
   "outputs": [
    {
     "data": {
      "text/html": [
       "<div>\n",
       "<style scoped>\n",
       "    .dataframe tbody tr th:only-of-type {\n",
       "        vertical-align: middle;\n",
       "    }\n",
       "\n",
       "    .dataframe tbody tr th {\n",
       "        vertical-align: top;\n",
       "    }\n",
       "\n",
       "    .dataframe thead th {\n",
       "        text-align: right;\n",
       "    }\n",
       "</style>\n",
       "<table border=\"1\" class=\"dataframe\">\n",
       "  <thead>\n",
       "    <tr style=\"text-align: right;\">\n",
       "      <th></th>\n",
       "      <th>n_tiles_placed</th>\n",
       "      <th>their_tiles_placed</th>\n",
       "    </tr>\n",
       "  </thead>\n",
       "  <tbody>\n",
       "    <tr>\n",
       "      <th>0</th>\n",
       "      <td>858933</td>\n",
       "      <td>29007</td>\n",
       "    </tr>\n",
       "    <tr>\n",
       "      <th>1</th>\n",
       "      <td>962642</td>\n",
       "      <td>22</td>\n",
       "    </tr>\n",
       "    <tr>\n",
       "      <th>2</th>\n",
       "      <td>843695</td>\n",
       "      <td>77</td>\n",
       "    </tr>\n",
       "  </tbody>\n",
       "</table>\n",
       "</div>"
      ],
      "text/plain": [
       "   n_tiles_placed  their_tiles_placed\n",
       "0          858933               29007\n",
       "1          962642                  22\n",
       "2          843695                  77"
      ]
     },
     "execution_count": 14,
     "metadata": {},
     "output_type": "execute_result"
    }
   ],
   "source": [
    "instances_where_solution_is_found = Result.objects.filter(solution_found=True, n_tiles=20, problem_generator='florian').values('n_tiles_placed', 'their_tiles_placed')\n",
    "scores_df = pd.DataFrame.from_records(instances_where_solution_is_found)\n",
    "scores_df"
   ]
  },
  {
   "cell_type": "code",
   "execution_count": 11,
   "metadata": {},
   "outputs": [
    {
     "name": "stdout",
     "output_type": "stream",
     "text": [
      "Florian instances\n",
      "solutions found: 3 \n",
      "solutions not found: 402\n",
      "perc: 0.7462686567164178 %\n"
     ]
    }
   ],
   "source": [
    "solutions_found = Result.objects.filter(solution_found=True, n_tiles=20, problem_generator='florian', n_simulations=1000).count()\n",
    "solutions_not_found = Result.objects.filter(solution_found=False, n_tiles=20, problem_generator='florian', n_simulations=1000).count()\n",
    "print('Florian instances')\n",
    "print(f'solutions found: {solutions_found} \\nsolutions not found: {solutions_not_found}')\n",
    "print(f'perc: {solutions_found / solutions_not_found * 100} %')"
   ]
  },
  {
   "cell_type": "code",
   "execution_count": 10,
   "metadata": {},
   "outputs": [
    {
     "name": "stdout",
     "output_type": "stream",
     "text": [
      "Guillotine instances\n",
      "solutions found: 58 \n",
      "solutions not found: 94\n",
      "perc: 61.702127659574465 %\n"
     ]
    }
   ],
   "source": [
    "print('Guillotine instances')\n",
    "solutions_found = Result.objects.filter(solution_found=True, n_tiles=20, problem_generator='guillotine', n_simulations=1000).count()\n",
    "solutions_not_found = Result.objects.filter(solution_found=False, n_tiles=20, problem_generator='guillotine', n_simulations=1000).count()\n",
    "print(f'solutions found: {solutions_found} \\nsolutions not found: {solutions_not_found}')\n",
    "print(f'perc: {solutions_found / solutions_not_found * 100} %')"
   ]
  },
  {
   "cell_type": "code",
   "execution_count": null,
   "metadata": {},
   "outputs": [],
   "source": []
  }
 ],
 "metadata": {
  "kernelspec": {
   "display_name": "Django Shell-Plus",
   "language": "python",
   "name": "django_extensions"
  },
  "language_info": {
   "codemirror_mode": {
    "name": "ipython",
    "version": 3
   },
   "file_extension": ".py",
   "mimetype": "text/x-python",
   "name": "python",
   "nbconvert_exporter": "python",
   "pygments_lexer": "ipython3",
   "version": "3.7.3"
  }
 },
 "nbformat": 4,
 "nbformat_minor": 2
}
